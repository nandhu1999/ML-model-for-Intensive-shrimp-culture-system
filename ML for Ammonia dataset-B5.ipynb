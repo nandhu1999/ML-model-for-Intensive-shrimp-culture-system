{
 "cells": [
  {
   "cell_type": "markdown",
   "id": "7b4dbf4f",
   "metadata": {},
   "source": [
    "## Ammonia concentration (ppm) prediction model development using Dataset-B5"
   ]
  },
  {
   "cell_type": "code",
   "execution_count": 1,
   "id": "8982f678",
   "metadata": {},
   "outputs": [],
   "source": [
    "import pandas as pd\n",
    "import numpy as np\n",
    "import seaborn as sns\n",
    "import matplotlib.pyplot as plt\n",
    "%matplotlib inline"
   ]
  },
  {
   "cell_type": "code",
   "execution_count": 2,
   "id": "d284a247",
   "metadata": {},
   "outputs": [
    {
     "data": {
      "text/html": [
       "<div>\n",
       "<style scoped>\n",
       "    .dataframe tbody tr th:only-of-type {\n",
       "        vertical-align: middle;\n",
       "    }\n",
       "\n",
       "    .dataframe tbody tr th {\n",
       "        vertical-align: top;\n",
       "    }\n",
       "\n",
       "    .dataframe thead th {\n",
       "        text-align: right;\n",
       "    }\n",
       "</style>\n",
       "<table border=\"1\" class=\"dataframe\">\n",
       "  <thead>\n",
       "    <tr style=\"text-align: right;\">\n",
       "      <th></th>\n",
       "      <th>Unnamed: 0</th>\n",
       "      <th>DOC</th>\n",
       "      <th>Salinity (ppt)</th>\n",
       "      <th>SDR (cm)</th>\n",
       "      <th>Water colour</th>\n",
       "      <th>Water level (cm)</th>\n",
       "      <th>TSS (ml/L)</th>\n",
       "      <th>Average PH</th>\n",
       "      <th>Average DO (ppm)</th>\n",
       "      <th>Running aerator (HP)</th>\n",
       "      <th>TDF (kg)</th>\n",
       "      <th>ABW (gm)</th>\n",
       "      <th>Water temperature (˚C)</th>\n",
       "      <th>PH change</th>\n",
       "      <th>Ammonia (ppm)</th>\n",
       "      <th>Water exchange (cm)</th>\n",
       "    </tr>\n",
       "  </thead>\n",
       "  <tbody>\n",
       "    <tr>\n",
       "      <th>0</th>\n",
       "      <td>0</td>\n",
       "      <td>1</td>\n",
       "      <td>16</td>\n",
       "      <td>50</td>\n",
       "      <td>4</td>\n",
       "      <td>120</td>\n",
       "      <td>1.0</td>\n",
       "      <td>8.25</td>\n",
       "      <td>5.783333</td>\n",
       "      <td>56</td>\n",
       "      <td>1.7</td>\n",
       "      <td>0.008000</td>\n",
       "      <td>29.10</td>\n",
       "      <td>0.3</td>\n",
       "      <td>0.026</td>\n",
       "      <td>0</td>\n",
       "    </tr>\n",
       "    <tr>\n",
       "      <th>1</th>\n",
       "      <td>1</td>\n",
       "      <td>2</td>\n",
       "      <td>16</td>\n",
       "      <td>48</td>\n",
       "      <td>5</td>\n",
       "      <td>120</td>\n",
       "      <td>2.0</td>\n",
       "      <td>8.25</td>\n",
       "      <td>5.600000</td>\n",
       "      <td>31</td>\n",
       "      <td>2.4</td>\n",
       "      <td>0.022571</td>\n",
       "      <td>28.65</td>\n",
       "      <td>0.1</td>\n",
       "      <td>0.028</td>\n",
       "      <td>0</td>\n",
       "    </tr>\n",
       "    <tr>\n",
       "      <th>2</th>\n",
       "      <td>2</td>\n",
       "      <td>3</td>\n",
       "      <td>16</td>\n",
       "      <td>55</td>\n",
       "      <td>4</td>\n",
       "      <td>132</td>\n",
       "      <td>0.5</td>\n",
       "      <td>8.05</td>\n",
       "      <td>5.333333</td>\n",
       "      <td>29</td>\n",
       "      <td>3.4</td>\n",
       "      <td>0.037143</td>\n",
       "      <td>28.10</td>\n",
       "      <td>0.1</td>\n",
       "      <td>0.023</td>\n",
       "      <td>5</td>\n",
       "    </tr>\n",
       "    <tr>\n",
       "      <th>3</th>\n",
       "      <td>3</td>\n",
       "      <td>4</td>\n",
       "      <td>16</td>\n",
       "      <td>60</td>\n",
       "      <td>4</td>\n",
       "      <td>128</td>\n",
       "      <td>0.5</td>\n",
       "      <td>8.00</td>\n",
       "      <td>5.466667</td>\n",
       "      <td>44</td>\n",
       "      <td>4.2</td>\n",
       "      <td>0.051714</td>\n",
       "      <td>28.40</td>\n",
       "      <td>0.0</td>\n",
       "      <td>0.018</td>\n",
       "      <td>0</td>\n",
       "    </tr>\n",
       "    <tr>\n",
       "      <th>4</th>\n",
       "      <td>4</td>\n",
       "      <td>5</td>\n",
       "      <td>16</td>\n",
       "      <td>45</td>\n",
       "      <td>4</td>\n",
       "      <td>126</td>\n",
       "      <td>0.5</td>\n",
       "      <td>8.00</td>\n",
       "      <td>5.433333</td>\n",
       "      <td>57</td>\n",
       "      <td>5.0</td>\n",
       "      <td>0.066286</td>\n",
       "      <td>28.15</td>\n",
       "      <td>0.2</td>\n",
       "      <td>0.030</td>\n",
       "      <td>0</td>\n",
       "    </tr>\n",
       "  </tbody>\n",
       "</table>\n",
       "</div>"
      ],
      "text/plain": [
       "   Unnamed: 0  DOC  Salinity (ppt)  SDR (cm)  Water colour  Water level (cm)  \\\n",
       "0           0    1              16        50             4               120   \n",
       "1           1    2              16        48             5               120   \n",
       "2           2    3              16        55             4               132   \n",
       "3           3    4              16        60             4               128   \n",
       "4           4    5              16        45             4               126   \n",
       "\n",
       "   TSS (ml/L)  Average PH  Average DO (ppm)  Running aerator (HP)  TDF (kg)  \\\n",
       "0         1.0        8.25          5.783333                    56       1.7   \n",
       "1         2.0        8.25          5.600000                    31       2.4   \n",
       "2         0.5        8.05          5.333333                    29       3.4   \n",
       "3         0.5        8.00          5.466667                    44       4.2   \n",
       "4         0.5        8.00          5.433333                    57       5.0   \n",
       "\n",
       "   ABW (gm)  Water temperature (˚C)  PH change  Ammonia (ppm)  \\\n",
       "0  0.008000                   29.10        0.3          0.026   \n",
       "1  0.022571                   28.65        0.1          0.028   \n",
       "2  0.037143                   28.10        0.1          0.023   \n",
       "3  0.051714                   28.40        0.0          0.018   \n",
       "4  0.066286                   28.15        0.2          0.030   \n",
       "\n",
       "   Water exchange (cm)  \n",
       "0                    0  \n",
       "1                    0  \n",
       "2                    5  \n",
       "3                    0  \n",
       "4                    0  "
      ]
     },
     "execution_count": 2,
     "metadata": {},
     "output_type": "execute_result"
    }
   ],
   "source": [
    "df=pd.read_excel('ammonia.xlsx')\n",
    "df.head()"
   ]
  },
  {
   "cell_type": "code",
   "execution_count": 3,
   "id": "8c0360f9",
   "metadata": {},
   "outputs": [],
   "source": [
    "sns.set_style({'font.family':'serif','font.serif':'Times New Roman'})\n",
    "plt.rcParams.update({'font.size':10})"
   ]
  },
  {
   "cell_type": "code",
   "execution_count": 4,
   "id": "8d6c775a",
   "metadata": {},
   "outputs": [
    {
     "data": {
      "text/html": [
       "<div>\n",
       "<style scoped>\n",
       "    .dataframe tbody tr th:only-of-type {\n",
       "        vertical-align: middle;\n",
       "    }\n",
       "\n",
       "    .dataframe tbody tr th {\n",
       "        vertical-align: top;\n",
       "    }\n",
       "\n",
       "    .dataframe thead th {\n",
       "        text-align: right;\n",
       "    }\n",
       "</style>\n",
       "<table border=\"1\" class=\"dataframe\">\n",
       "  <thead>\n",
       "    <tr style=\"text-align: right;\">\n",
       "      <th></th>\n",
       "      <th>DataType</th>\n",
       "    </tr>\n",
       "  </thead>\n",
       "  <tbody>\n",
       "    <tr>\n",
       "      <th>Unnamed: 0</th>\n",
       "      <td>int64</td>\n",
       "    </tr>\n",
       "    <tr>\n",
       "      <th>DOC</th>\n",
       "      <td>int64</td>\n",
       "    </tr>\n",
       "    <tr>\n",
       "      <th>Salinity (ppt)</th>\n",
       "      <td>int64</td>\n",
       "    </tr>\n",
       "    <tr>\n",
       "      <th>SDR (cm)</th>\n",
       "      <td>int64</td>\n",
       "    </tr>\n",
       "    <tr>\n",
       "      <th>Water colour</th>\n",
       "      <td>int64</td>\n",
       "    </tr>\n",
       "    <tr>\n",
       "      <th>Water level (cm)</th>\n",
       "      <td>int64</td>\n",
       "    </tr>\n",
       "    <tr>\n",
       "      <th>TSS (ml/L)</th>\n",
       "      <td>float64</td>\n",
       "    </tr>\n",
       "    <tr>\n",
       "      <th>Average PH</th>\n",
       "      <td>float64</td>\n",
       "    </tr>\n",
       "    <tr>\n",
       "      <th>Average DO (ppm)</th>\n",
       "      <td>float64</td>\n",
       "    </tr>\n",
       "    <tr>\n",
       "      <th>Running aerator (HP)</th>\n",
       "      <td>int64</td>\n",
       "    </tr>\n",
       "    <tr>\n",
       "      <th>TDF (kg)</th>\n",
       "      <td>float64</td>\n",
       "    </tr>\n",
       "    <tr>\n",
       "      <th>ABW (gm)</th>\n",
       "      <td>float64</td>\n",
       "    </tr>\n",
       "    <tr>\n",
       "      <th>Water temperature (˚C)</th>\n",
       "      <td>float64</td>\n",
       "    </tr>\n",
       "    <tr>\n",
       "      <th>PH change</th>\n",
       "      <td>float64</td>\n",
       "    </tr>\n",
       "    <tr>\n",
       "      <th>Ammonia (ppm)</th>\n",
       "      <td>float64</td>\n",
       "    </tr>\n",
       "    <tr>\n",
       "      <th>Water exchange (cm)</th>\n",
       "      <td>int64</td>\n",
       "    </tr>\n",
       "  </tbody>\n",
       "</table>\n",
       "</div>"
      ],
      "text/plain": [
       "                       DataType\n",
       "Unnamed: 0                int64\n",
       "DOC                       int64\n",
       "Salinity (ppt)            int64\n",
       "SDR (cm)                  int64\n",
       "Water colour              int64\n",
       "Water level (cm)          int64\n",
       "TSS (ml/L)              float64\n",
       "Average PH              float64\n",
       "Average DO (ppm)        float64\n",
       "Running aerator (HP)      int64\n",
       "TDF (kg)                float64\n",
       "ABW (gm)                float64\n",
       "Water temperature (˚C)  float64\n",
       "PH change               float64\n",
       "Ammonia (ppm)           float64\n",
       "Water exchange (cm)       int64"
      ]
     },
     "execution_count": 4,
     "metadata": {},
     "output_type": "execute_result"
    }
   ],
   "source": [
    "data=pd.DataFrame(df.dtypes)\n",
    "data=data.rename(columns={0:'DataType'})\n",
    "data"
   ]
  },
  {
   "cell_type": "code",
   "execution_count": 5,
   "id": "81ea9674",
   "metadata": {},
   "outputs": [
    {
     "data": {
      "text/plain": [
       "Unnamed: 0                0\n",
       "DOC                       0\n",
       "Salinity (ppt)            0\n",
       "SDR (cm)                  0\n",
       "Water colour              0\n",
       "Water level (cm)          0\n",
       "TSS (ml/L)                0\n",
       "Average PH                0\n",
       "Average DO (ppm)          0\n",
       "Running aerator (HP)      0\n",
       "TDF (kg)                  0\n",
       "ABW (gm)                  0\n",
       "Water temperature (˚C)    0\n",
       "PH change                 0\n",
       "Ammonia (ppm)             0\n",
       "Water exchange (cm)       0\n",
       "dtype: int64"
      ]
     },
     "execution_count": 5,
     "metadata": {},
     "output_type": "execute_result"
    }
   ],
   "source": [
    "df.isnull().sum()"
   ]
  },
  {
   "cell_type": "code",
   "execution_count": 6,
   "id": "54554899",
   "metadata": {},
   "outputs": [
    {
     "data": {
      "text/html": [
       "<div>\n",
       "<style scoped>\n",
       "    .dataframe tbody tr th:only-of-type {\n",
       "        vertical-align: middle;\n",
       "    }\n",
       "\n",
       "    .dataframe tbody tr th {\n",
       "        vertical-align: top;\n",
       "    }\n",
       "\n",
       "    .dataframe thead th {\n",
       "        text-align: right;\n",
       "    }\n",
       "</style>\n",
       "<table border=\"1\" class=\"dataframe\">\n",
       "  <thead>\n",
       "    <tr style=\"text-align: right;\">\n",
       "      <th></th>\n",
       "      <th>DOC</th>\n",
       "      <th>SDR (cm)</th>\n",
       "      <th>ABW (gm)</th>\n",
       "      <th>TDF (kg)</th>\n",
       "      <th>Water exchange (cm)</th>\n",
       "    </tr>\n",
       "  </thead>\n",
       "  <tbody>\n",
       "    <tr>\n",
       "      <th>0</th>\n",
       "      <td>1</td>\n",
       "      <td>50</td>\n",
       "      <td>0.008000</td>\n",
       "      <td>1.7</td>\n",
       "      <td>0</td>\n",
       "    </tr>\n",
       "    <tr>\n",
       "      <th>1</th>\n",
       "      <td>2</td>\n",
       "      <td>48</td>\n",
       "      <td>0.022571</td>\n",
       "      <td>2.4</td>\n",
       "      <td>0</td>\n",
       "    </tr>\n",
       "    <tr>\n",
       "      <th>2</th>\n",
       "      <td>3</td>\n",
       "      <td>55</td>\n",
       "      <td>0.037143</td>\n",
       "      <td>3.4</td>\n",
       "      <td>5</td>\n",
       "    </tr>\n",
       "    <tr>\n",
       "      <th>3</th>\n",
       "      <td>4</td>\n",
       "      <td>60</td>\n",
       "      <td>0.051714</td>\n",
       "      <td>4.2</td>\n",
       "      <td>0</td>\n",
       "    </tr>\n",
       "    <tr>\n",
       "      <th>4</th>\n",
       "      <td>5</td>\n",
       "      <td>45</td>\n",
       "      <td>0.066286</td>\n",
       "      <td>5.0</td>\n",
       "      <td>0</td>\n",
       "    </tr>\n",
       "    <tr>\n",
       "      <th>...</th>\n",
       "      <td>...</td>\n",
       "      <td>...</td>\n",
       "      <td>...</td>\n",
       "      <td>...</td>\n",
       "      <td>...</td>\n",
       "    </tr>\n",
       "    <tr>\n",
       "      <th>395</th>\n",
       "      <td>96</td>\n",
       "      <td>18</td>\n",
       "      <td>19.100000</td>\n",
       "      <td>460.0</td>\n",
       "      <td>0</td>\n",
       "    </tr>\n",
       "    <tr>\n",
       "      <th>396</th>\n",
       "      <td>97</td>\n",
       "      <td>22</td>\n",
       "      <td>19.200000</td>\n",
       "      <td>400.0</td>\n",
       "      <td>0</td>\n",
       "    </tr>\n",
       "    <tr>\n",
       "      <th>397</th>\n",
       "      <td>98</td>\n",
       "      <td>23</td>\n",
       "      <td>19.300000</td>\n",
       "      <td>410.0</td>\n",
       "      <td>0</td>\n",
       "    </tr>\n",
       "    <tr>\n",
       "      <th>398</th>\n",
       "      <td>99</td>\n",
       "      <td>24</td>\n",
       "      <td>19.400000</td>\n",
       "      <td>400.0</td>\n",
       "      <td>0</td>\n",
       "    </tr>\n",
       "    <tr>\n",
       "      <th>399</th>\n",
       "      <td>100</td>\n",
       "      <td>20</td>\n",
       "      <td>19.500000</td>\n",
       "      <td>400.0</td>\n",
       "      <td>0</td>\n",
       "    </tr>\n",
       "  </tbody>\n",
       "</table>\n",
       "<p>400 rows × 5 columns</p>\n",
       "</div>"
      ],
      "text/plain": [
       "     DOC  SDR (cm)   ABW (gm)  TDF (kg)  Water exchange (cm)\n",
       "0      1        50   0.008000       1.7                    0\n",
       "1      2        48   0.022571       2.4                    0\n",
       "2      3        55   0.037143       3.4                    5\n",
       "3      4        60   0.051714       4.2                    0\n",
       "4      5        45   0.066286       5.0                    0\n",
       "..   ...       ...        ...       ...                  ...\n",
       "395   96        18  19.100000     460.0                    0\n",
       "396   97        22  19.200000     400.0                    0\n",
       "397   98        23  19.300000     410.0                    0\n",
       "398   99        24  19.400000     400.0                    0\n",
       "399  100        20  19.500000     400.0                    0\n",
       "\n",
       "[400 rows x 5 columns]"
      ]
     },
     "execution_count": 6,
     "metadata": {},
     "output_type": "execute_result"
    }
   ],
   "source": [
    "x=df[['DOC','SDR (cm)', 'ABW (gm)', 'TDF (kg)','Water exchange (cm)']]\n",
    "x"
   ]
  },
  {
   "cell_type": "code",
   "execution_count": 7,
   "id": "b70c9c25",
   "metadata": {},
   "outputs": [
    {
     "data": {
      "text/plain": [
       "0      0.026\n",
       "1      0.028\n",
       "2      0.023\n",
       "3      0.018\n",
       "4      0.030\n",
       "       ...  \n",
       "395    0.054\n",
       "396    0.049\n",
       "397    0.044\n",
       "398    0.039\n",
       "399    0.054\n",
       "Name: Ammonia (ppm), Length: 400, dtype: float64"
      ]
     },
     "execution_count": 7,
     "metadata": {},
     "output_type": "execute_result"
    }
   ],
   "source": [
    "y=df['Ammonia (ppm)']\n",
    "y"
   ]
  },
  {
   "cell_type": "code",
   "execution_count": 8,
   "id": "95108215",
   "metadata": {},
   "outputs": [],
   "source": [
    "from sklearn.preprocessing import StandardScaler\n",
    "rs=StandardScaler()\n",
    "x=rs.fit_transform(x)\n"
   ]
  },
  {
   "cell_type": "code",
   "execution_count": 9,
   "id": "07feb300",
   "metadata": {},
   "outputs": [],
   "source": [
    "from sklearn.model_selection import train_test_split\n",
    "from sklearn.linear_model import LinearRegression"
   ]
  },
  {
   "cell_type": "code",
   "execution_count": 10,
   "id": "e8375354",
   "metadata": {},
   "outputs": [],
   "source": [
    "x_train, x_test, y_train, y_test = train_test_split(x, y, test_size=0.2, random_state=42)"
   ]
  },
  {
   "cell_type": "code",
   "execution_count": 11,
   "id": "73a94a8e",
   "metadata": {},
   "outputs": [
    {
     "data": {
      "text/plain": [
       "LinearRegression()"
      ]
     },
     "execution_count": 11,
     "metadata": {},
     "output_type": "execute_result"
    }
   ],
   "source": [
    "linreg=LinearRegression()\n",
    "linreg.fit(x_train, y_train)"
   ]
  },
  {
   "cell_type": "code",
   "execution_count": 12,
   "id": "bfd9beb2",
   "metadata": {},
   "outputs": [],
   "source": [
    "y_pred=linreg.predict(x_test) "
   ]
  },
  {
   "cell_type": "code",
   "execution_count": 13,
   "id": "74f4b0bf",
   "metadata": {},
   "outputs": [
    {
     "data": {
      "text/plain": [
       "0.11931205501879683"
      ]
     },
     "execution_count": 13,
     "metadata": {},
     "output_type": "execute_result"
    }
   ],
   "source": [
    "linreg.score(x_test, y_test)"
   ]
  },
  {
   "cell_type": "code",
   "execution_count": 14,
   "id": "1e5a5e33",
   "metadata": {},
   "outputs": [
    {
     "data": {
      "text/plain": [
       "0.1935420491713381"
      ]
     },
     "execution_count": 14,
     "metadata": {},
     "output_type": "execute_result"
    }
   ],
   "source": [
    "linreg.score(x_train,y_train)"
   ]
  },
  {
   "cell_type": "code",
   "execution_count": 15,
   "id": "db87e094",
   "metadata": {},
   "outputs": [
    {
     "name": "stdout",
     "output_type": "stream",
     "text": [
      "0.05174269996541801\n",
      "0.007148394072536518\n",
      "0.08454817604500121\n",
      "0.11931205501879683\n",
      "0.7816142945838453\n"
     ]
    }
   ],
   "source": [
    "from sklearn.metrics import r2_score, mean_absolute_percentage_error\n",
    "from sklearn.metrics import mean_squared_error\n",
    "from math import sqrt\n",
    "from sklearn.metrics import mean_absolute_error\n",
    "print(mean_absolute_error(y_test, y_pred))\n",
    "print(mean_squared_error(y_test, y_pred))\n",
    "print(np.sqrt(mean_squared_error(y_test, y_pred)))\n",
    "print(r2_score(y_test, y_pred))\n",
    "print(mean_absolute_percentage_error(y_test, y_pred))"
   ]
  },
  {
   "cell_type": "code",
   "execution_count": 16,
   "id": "d684c9b6",
   "metadata": {},
   "outputs": [
    {
     "data": {
      "image/png": "[encoded data removed]",
      "text/plain": [
       "<Figure size 432x288 with 1 Axes>"
      ]
     },
     "metadata": {
      "needs_background": "light"
     },
     "output_type": "display_data"
    }
   ],
   "source": [
    "fig, ax = plt.subplots()\n",
    "ax.scatter(y_test, y_pred, edgecolors=(0,0,0),s=60)\n",
    "ax.plot([y_test.min(), y_test.max()], [y_pred.min(), y_pred.max()],\"k-\",lw=3)\n",
    "ax.set_xlabel(\"Observed value\")\n",
    "ax.set_ylabel(\"Predicted value\")\n",
    "plt.show()"
   ]
  },
  {
   "cell_type": "code",
   "execution_count": 17,
   "id": "1aa481aa",
   "metadata": {},
   "outputs": [],
   "source": [
    "from sklearn.tree import DecisionTreeRegressor"
   ]
  },
  {
   "cell_type": "code",
   "execution_count": 18,
   "id": "5f768ef4",
   "metadata": {},
   "outputs": [
    {
     "data": {
      "text/plain": [
       "DecisionTreeRegressor(min_samples_leaf=2, random_state=3)"
      ]
     },
     "execution_count": 18,
     "metadata": {},
     "output_type": "execute_result"
    }
   ],
   "source": [
    "treereg=DecisionTreeRegressor(splitter='best',\n",
    "    max_depth=None,\n",
    "    min_samples_split=2,\n",
    "    min_samples_leaf=2, random_state=3)\n",
    "treereg.fit(x_train, y_train)"
   ]
  },
  {
   "cell_type": "code",
   "execution_count": 19,
   "id": "894fae98",
   "metadata": {},
   "outputs": [],
   "source": [
    "ytree_pred=treereg.predict(x_test)"
   ]
  },
  {
   "cell_type": "code",
   "execution_count": 20,
   "id": "861a8809",
   "metadata": {},
   "outputs": [
    {
     "data": {
      "text/plain": [
       "0.9291717613865633"
      ]
     },
     "execution_count": 20,
     "metadata": {},
     "output_type": "execute_result"
    }
   ],
   "source": [
    "treereg.score(x_train, y_train)"
   ]
  },
  {
   "cell_type": "code",
   "execution_count": 21,
   "id": "02343816",
   "metadata": {},
   "outputs": [
    {
     "data": {
      "text/plain": [
       "0.705477483494128"
      ]
     },
     "execution_count": 21,
     "metadata": {},
     "output_type": "execute_result"
    }
   ],
   "source": [
    "treereg.score(x_test,y_test)"
   ]
  },
  {
   "cell_type": "code",
   "execution_count": 22,
   "id": "7794ea25",
   "metadata": {},
   "outputs": [
    {
     "name": "stdout",
     "output_type": "stream",
     "text": [
      "0.02961006944444445\n",
      "0.0023905891107253085\n",
      "0.04889365102674691\n",
      "0.705477483494128\n",
      "0.3837167250324912\n"
     ]
    }
   ],
   "source": [
    "from sklearn.metrics import r2_score\n",
    "from sklearn.metrics import mean_squared_error\n",
    "from math import sqrt\n",
    "from sklearn.metrics import mean_absolute_error\n",
    "print(mean_absolute_error(y_test, ytree_pred))\n",
    "print(mean_squared_error(y_test, ytree_pred))\n",
    "print(np.sqrt(mean_squared_error(y_test, ytree_pred)))\n",
    "print(r2_score(y_test, ytree_pred))\n",
    "print(mean_absolute_percentage_error(y_test, ytree_pred))"
   ]
  },
  {
   "cell_type": "code",
   "execution_count": 23,
   "id": "5a5ea11f",
   "metadata": {},
   "outputs": [],
   "source": [
    "from sklearn.ensemble import AdaBoostRegressor"
   ]
  },
  {
   "cell_type": "code",
   "execution_count": 24,
   "id": "73b14373",
   "metadata": {},
   "outputs": [
    {
     "data": {
      "text/plain": [
       "AdaBoostRegressor(n_estimators=100, random_state=42)"
      ]
     },
     "execution_count": 24,
     "metadata": {},
     "output_type": "execute_result"
    }
   ],
   "source": [
    "adareg=AdaBoostRegressor(random_state=42, n_estimators=100)\n",
    "adareg.fit(x_train, y_train)"
   ]
  },
  {
   "cell_type": "code",
   "execution_count": 25,
   "id": "87f81172",
   "metadata": {},
   "outputs": [],
   "source": [
    "yada_pred=adareg.predict(x_test)"
   ]
  },
  {
   "cell_type": "code",
   "execution_count": 26,
   "id": "4f859252",
   "metadata": {},
   "outputs": [
    {
     "data": {
      "text/plain": [
       "0.7252460667656946"
      ]
     },
     "execution_count": 26,
     "metadata": {},
     "output_type": "execute_result"
    }
   ],
   "source": [
    "adareg.score(x_train, y_train)"
   ]
  },
  {
   "cell_type": "code",
   "execution_count": 27,
   "id": "5446736d",
   "metadata": {},
   "outputs": [
    {
     "data": {
      "text/plain": [
       "0.49067485346257733"
      ]
     },
     "execution_count": 27,
     "metadata": {},
     "output_type": "execute_result"
    }
   ],
   "source": [
    "adareg.score(x_test, y_test)"
   ]
  },
  {
   "cell_type": "code",
   "execution_count": 28,
   "id": "9111cf5a",
   "metadata": {},
   "outputs": [
    {
     "name": "stdout",
     "output_type": "stream",
     "text": [
      "0.04439292596197038\n",
      "0.004134105478847691\n",
      "0.06429700987485881\n",
      "0.49067485346257733\n",
      "0.7939791354544473\n"
     ]
    }
   ],
   "source": [
    "from sklearn.metrics import r2_score\n",
    "from sklearn.metrics import mean_squared_error\n",
    "from math import sqrt\n",
    "from sklearn.metrics import mean_absolute_error\n",
    "print(mean_absolute_error(y_test, yada_pred))\n",
    "print(mean_squared_error(y_test, yada_pred))\n",
    "print(np.sqrt(mean_squared_error(y_test, yada_pred)))\n",
    "print(r2_score(y_test, yada_pred))\n",
    "print(mean_absolute_percentage_error(y_test, yada_pred))"
   ]
  },
  {
   "cell_type": "code",
   "execution_count": 29,
   "id": "3f58ec1c",
   "metadata": {},
   "outputs": [],
   "source": [
    "from sklearn.ensemble import GradientBoostingRegressor"
   ]
  },
  {
   "cell_type": "code",
   "execution_count": 30,
   "id": "46ff2610",
   "metadata": {},
   "outputs": [
    {
     "data": {
      "text/plain": [
       "GradientBoostingRegressor(learning_rate=0.5, max_depth=10, min_samples_leaf=5,\n",
       "                          random_state=42)"
      ]
     },
     "execution_count": 30,
     "metadata": {},
     "output_type": "execute_result"
    }
   ],
   "source": [
    "gbrreg=GradientBoostingRegressor(n_estimators=100, learning_rate=0.5, max_depth=10, random_state=42, loss='ls',min_samples_leaf=5)\n",
    "gbrreg.fit(x_train, y_train)"
   ]
  },
  {
   "cell_type": "code",
   "execution_count": 31,
   "id": "ce4289ff",
   "metadata": {},
   "outputs": [],
   "source": [
    "ygbr_pred=gbrreg.predict(x_test)"
   ]
  },
  {
   "cell_type": "code",
   "execution_count": 32,
   "id": "41b066c9",
   "metadata": {},
   "outputs": [
    {
     "data": {
      "text/plain": [
       "0.9995811832880231"
      ]
     },
     "execution_count": 32,
     "metadata": {},
     "output_type": "execute_result"
    }
   ],
   "source": [
    "gbrreg.score(x_train, y_train)"
   ]
  },
  {
   "cell_type": "code",
   "execution_count": 33,
   "id": "ed3a36f6",
   "metadata": {},
   "outputs": [
    {
     "data": {
      "text/plain": [
       "0.685219646248352"
      ]
     },
     "execution_count": 33,
     "metadata": {},
     "output_type": "execute_result"
    }
   ],
   "source": [
    "gbrreg.score(x_test, y_test)"
   ]
  },
  {
   "cell_type": "code",
   "execution_count": 34,
   "id": "7f5b6bb1",
   "metadata": {},
   "outputs": [
    {
     "name": "stdout",
     "output_type": "stream",
     "text": [
      "0.028677318312687945\n",
      "0.002555018525838066\n",
      "0.05054719107762632\n",
      "0.685219646248352\n",
      "0.4020098756379834\n"
     ]
    }
   ],
   "source": [
    "from sklearn.metrics import r2_score\n",
    "from sklearn.metrics import mean_squared_error\n",
    "from math import sqrt\n",
    "from sklearn.metrics import mean_absolute_error\n",
    "print(mean_absolute_error(y_test, ygbr_pred))\n",
    "print(mean_squared_error(y_test, ygbr_pred))\n",
    "print(np.sqrt(mean_squared_error(y_test, ygbr_pred)))\n",
    "print(r2_score(y_test, ygbr_pred))\n",
    "print(mean_absolute_percentage_error(y_test, ygbr_pred))"
   ]
  },
  {
   "cell_type": "code",
   "execution_count": 35,
   "id": "4fcfe8e9",
   "metadata": {},
   "outputs": [],
   "source": [
    "from sklearn.ensemble import RandomForestRegressor"
   ]
  },
  {
   "cell_type": "code",
   "execution_count": 36,
   "id": "67cdb83c",
   "metadata": {},
   "outputs": [
    {
     "data": {
      "text/plain": [
       "RandomForestRegressor(max_depth=25, max_features='sqrt', n_estimators=1000,\n",
       "                      random_state=42)"
      ]
     },
     "execution_count": 36,
     "metadata": {},
     "output_type": "execute_result"
    }
   ],
   "source": [
    "rf=RandomForestRegressor(n_estimators=1000, min_samples_split=2, min_samples_leaf=1, random_state=42, max_depth=25,max_features='sqrt')\n",
    "rf.fit(x_train, y_train)"
   ]
  },
  {
   "cell_type": "code",
   "execution_count": 37,
   "id": "723ef84f",
   "metadata": {},
   "outputs": [],
   "source": [
    "yrf_pred=rf.predict(x_test)"
   ]
  },
  {
   "cell_type": "code",
   "execution_count": 38,
   "id": "bbf273df",
   "metadata": {},
   "outputs": [
    {
     "data": {
      "text/plain": [
       "0.9333605097350659"
      ]
     },
     "execution_count": 38,
     "metadata": {},
     "output_type": "execute_result"
    }
   ],
   "source": [
    "rf.score(x_train, y_train)"
   ]
  },
  {
   "cell_type": "code",
   "execution_count": 39,
   "id": "1844e3a0",
   "metadata": {},
   "outputs": [
    {
     "data": {
      "text/plain": [
       "0.46922302801225313"
      ]
     },
     "execution_count": 39,
     "metadata": {},
     "output_type": "execute_result"
    }
   ],
   "source": [
    "rf.score(x_test, y_test)"
   ]
  },
  {
   "cell_type": "code",
   "execution_count": 40,
   "id": "8ee1ab61",
   "metadata": {},
   "outputs": [
    {
     "name": "stdout",
     "output_type": "stream",
     "text": [
      "0.03216134270833325\n",
      "0.004308226292886378\n",
      "0.06563708016728333\n",
      "0.46922302801225313\n",
      "0.44461167737582913\n"
     ]
    }
   ],
   "source": [
    "from sklearn.metrics import r2_score\n",
    "from sklearn.metrics import mean_squared_error\n",
    "from math import sqrt\n",
    "from sklearn.metrics import mean_absolute_error\n",
    "print(mean_absolute_error(y_test, yrf_pred))\n",
    "print(mean_squared_error(y_test, yrf_pred))\n",
    "print(np.sqrt(mean_squared_error(y_test, yrf_pred)))\n",
    "print(r2_score(y_test, yrf_pred))\n",
    "print(mean_absolute_percentage_error(y_test, yrf_pred))"
   ]
  },
  {
   "cell_type": "code",
   "execution_count": 41,
   "id": "bc343049",
   "metadata": {},
   "outputs": [
    {
     "data": {
      "image/png": "[encoded data removed]",
      "text/plain": [
       "<Figure size 432x288 with 1 Axes>"
      ]
     },
     "metadata": {
      "needs_background": "light"
     },
     "output_type": "display_data"
    },
    {
     "data": {
      "text/plain": [
       "<Figure size 720x576 with 0 Axes>"
      ]
     },
     "metadata": {},
     "output_type": "display_data"
    }
   ],
   "source": [
    "fig, ax = plt.subplots()\n",
    "plt.figure(figsize=(10,8))\n",
    "ax.scatter(y_test, yada_pred, edgecolors=(0,0,0),s=60)\n",
    "ax.plot([y_test.min(), y_test.max()], [yada_pred.min(), yada_pred.max()],\"k-\",lw=3)\n",
    "ax.set_xlabel(\"Observed value\")\n",
    "ax.set_ylabel(\"Predicted value\")\n",
    "ax.set_title('AdaBoosting Regression')\n",
    "plt.show()"
   ]
  },
  {
   "cell_type": "code",
   "execution_count": 42,
   "id": "7afe9c29",
   "metadata": {},
   "outputs": [
    {
     "data": {
      "image/png": "[encoded data removed]",
      "text/plain": [
       "<Figure size 432x288 with 1 Axes>"
      ]
     },
     "metadata": {
      "needs_background": "light"
     },
     "output_type": "display_data"
    },
    {
     "data": {
      "text/plain": [
       "<Figure size 720x576 with 0 Axes>"
      ]
     },
     "metadata": {},
     "output_type": "display_data"
    }
   ],
   "source": [
    "fig, ax = plt.subplots()\n",
    "plt.figure(figsize=(10,8))\n",
    "ax.scatter(y_test, ytree_pred, edgecolors=(0,0,0),s=60)\n",
    "ax.plot([y_test.min(), y_test.max()], [ytree_pred.min(), ytree_pred.max()],\"k-\",lw=3)\n",
    "ax.set_xlabel(\"Observed value\")\n",
    "ax.set_ylabel(\"Predicted value\")\n",
    "ax.set_title('Decision Tree Regression')\n",
    "plt.show()"
   ]
  },
  {
   "cell_type": "code",
   "execution_count": 43,
   "id": "b97df7c0",
   "metadata": {},
   "outputs": [
    {
     "data": {
      "image/png": "[encoded data removed]",
      "text/plain": [
       "<Figure size 432x288 with 1 Axes>"
      ]
     },
     "metadata": {
      "needs_background": "light"
     },
     "output_type": "display_data"
    },
    {
     "data": {
      "text/plain": [
       "<Figure size 720x576 with 0 Axes>"
      ]
     },
     "metadata": {},
     "output_type": "display_data"
    }
   ],
   "source": [
    "fig, ax = plt.subplots()\n",
    "plt.figure(figsize=(10,8))\n",
    "ax.scatter(y_test,ygbr_pred, edgecolors=(0,0,0),s=60)\n",
    "ax.plot([y_test.min(), y_test.max()], [ygbr_pred.min(), ygbr_pred.max()],\"k-\",lw=3)\n",
    "ax.set_xlabel(\"Observed value\")\n",
    "ax.set_ylabel(\"Predicted value\")\n",
    "ax.set_title('Gradient Tree Boosting')\n",
    "plt.show()"
   ]
  },
  {
   "cell_type": "code",
   "execution_count": null,
   "id": "024a470e",
   "metadata": {},
   "outputs": [],
   "source": []
  },
  {
   "cell_type": "code",
   "execution_count": null,
   "id": "96aed103",
   "metadata": {},
   "outputs": [],
   "source": []
  }
 ],
 "metadata": {
  "kernelspec": {
   "display_name": "Python 3 (ipykernel)",
   "language": "python",
   "name": "python3"
  },
  "language_info": {
   "codemirror_mode": {
    "name": "ipython",
    "version": 3
   },
   "file_extension": ".py",
   "mimetype": "text/x-python",
   "name": "python",
   "nbconvert_exporter": "python",
   "pygments_lexer": "ipython3",
   "version": "3.9.7"
  }
 },
 "nbformat": 4,
 "nbformat_minor": 5
}
