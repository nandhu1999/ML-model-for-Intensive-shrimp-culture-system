{
 "cells": [
  {
   "cell_type": "markdown",
   "id": "7b4dbf4f",
   "metadata": {},
   "source": [
    "## Average shrimp  body weight prediction model develpment using Dataset-A5"
   ]
  },
  {
   "cell_type": "code",
   "execution_count": 1,
   "id": "8982f678",
   "metadata": {},
   "outputs": [],
   "source": [
    "import pandas as pd\n",
    "import numpy as np\n",
    "import seaborn as sns\n",
    "import matplotlib.pyplot as plt\n",
    "%matplotlib inline"
   ]
  },
  {
   "cell_type": "code",
   "execution_count": 2,
   "id": "df92ddde",
   "metadata": {},
   "outputs": [],
   "source": [
    "sns.set_style({'font.family':'serif','font.serif':'Times New Roman'})"
   ]
  },
  {
   "cell_type": "code",
   "execution_count": 3,
   "id": "1d515d9e",
   "metadata": {},
   "outputs": [],
   "source": [
    "plt.rcParams.update({'font.size':12})"
   ]
  },
  {
   "cell_type": "code",
   "execution_count": 4,
   "id": "d284a247",
   "metadata": {},
   "outputs": [
    {
     "data": {
      "text/html": [
       "<div>\n",
       "<style scoped>\n",
       "    .dataframe tbody tr th:only-of-type {\n",
       "        vertical-align: middle;\n",
       "    }\n",
       "\n",
       "    .dataframe tbody tr th {\n",
       "        vertical-align: top;\n",
       "    }\n",
       "\n",
       "    .dataframe thead th {\n",
       "        text-align: right;\n",
       "    }\n",
       "</style>\n",
       "<table border=\"1\" class=\"dataframe\">\n",
       "  <thead>\n",
       "    <tr style=\"text-align: right;\">\n",
       "      <th></th>\n",
       "      <th>DOC</th>\n",
       "      <th>Salinity (ppt)</th>\n",
       "      <th>SDR (cm)</th>\n",
       "      <th>Water colour</th>\n",
       "      <th>Water level (cm)</th>\n",
       "      <th>TSS (ml/L)</th>\n",
       "      <th>Average PH</th>\n",
       "      <th>Average DO (ppm)</th>\n",
       "      <th>Running aerator (HP)</th>\n",
       "      <th>TDF (kg)</th>\n",
       "      <th>ABW (gm)</th>\n",
       "      <th>Water temperature (˚C)</th>\n",
       "      <th>PH change</th>\n",
       "      <th>Ammonia (ppm)</th>\n",
       "      <th>Water exchange (cm)</th>\n",
       "    </tr>\n",
       "  </thead>\n",
       "  <tbody>\n",
       "    <tr>\n",
       "      <th>0</th>\n",
       "      <td>1</td>\n",
       "      <td>16</td>\n",
       "      <td>50</td>\n",
       "      <td>4</td>\n",
       "      <td>120</td>\n",
       "      <td>1.0</td>\n",
       "      <td>8.25</td>\n",
       "      <td>5.78</td>\n",
       "      <td>56</td>\n",
       "      <td>1.7</td>\n",
       "      <td>0.008</td>\n",
       "      <td>29.10</td>\n",
       "      <td>0.3</td>\n",
       "      <td>0.026</td>\n",
       "      <td>0</td>\n",
       "    </tr>\n",
       "    <tr>\n",
       "      <th>1</th>\n",
       "      <td>2</td>\n",
       "      <td>16</td>\n",
       "      <td>48</td>\n",
       "      <td>5</td>\n",
       "      <td>120</td>\n",
       "      <td>2.0</td>\n",
       "      <td>8.25</td>\n",
       "      <td>5.60</td>\n",
       "      <td>31</td>\n",
       "      <td>2.4</td>\n",
       "      <td>0.023</td>\n",
       "      <td>28.65</td>\n",
       "      <td>0.1</td>\n",
       "      <td>0.028</td>\n",
       "      <td>0</td>\n",
       "    </tr>\n",
       "    <tr>\n",
       "      <th>2</th>\n",
       "      <td>3</td>\n",
       "      <td>16</td>\n",
       "      <td>55</td>\n",
       "      <td>4</td>\n",
       "      <td>132</td>\n",
       "      <td>0.5</td>\n",
       "      <td>8.05</td>\n",
       "      <td>5.33</td>\n",
       "      <td>29</td>\n",
       "      <td>3.4</td>\n",
       "      <td>0.037</td>\n",
       "      <td>28.10</td>\n",
       "      <td>0.1</td>\n",
       "      <td>0.023</td>\n",
       "      <td>5</td>\n",
       "    </tr>\n",
       "    <tr>\n",
       "      <th>3</th>\n",
       "      <td>4</td>\n",
       "      <td>16</td>\n",
       "      <td>60</td>\n",
       "      <td>4</td>\n",
       "      <td>128</td>\n",
       "      <td>0.5</td>\n",
       "      <td>8.00</td>\n",
       "      <td>5.46</td>\n",
       "      <td>44</td>\n",
       "      <td>4.2</td>\n",
       "      <td>0.052</td>\n",
       "      <td>28.40</td>\n",
       "      <td>0.0</td>\n",
       "      <td>0.018</td>\n",
       "      <td>0</td>\n",
       "    </tr>\n",
       "    <tr>\n",
       "      <th>4</th>\n",
       "      <td>5</td>\n",
       "      <td>16</td>\n",
       "      <td>45</td>\n",
       "      <td>4</td>\n",
       "      <td>126</td>\n",
       "      <td>0.5</td>\n",
       "      <td>8.00</td>\n",
       "      <td>5.43</td>\n",
       "      <td>57</td>\n",
       "      <td>5.0</td>\n",
       "      <td>0.066</td>\n",
       "      <td>28.15</td>\n",
       "      <td>0.2</td>\n",
       "      <td>0.030</td>\n",
       "      <td>0</td>\n",
       "    </tr>\n",
       "  </tbody>\n",
       "</table>\n",
       "</div>"
      ],
      "text/plain": [
       "   DOC  Salinity (ppt)  SDR (cm)  Water colour  Water level (cm)  TSS (ml/L)  \\\n",
       "0    1              16        50             4               120         1.0   \n",
       "1    2              16        48             5               120         2.0   \n",
       "2    3              16        55             4               132         0.5   \n",
       "3    4              16        60             4               128         0.5   \n",
       "4    5              16        45             4               126         0.5   \n",
       "\n",
       "   Average PH  Average DO (ppm)  Running aerator (HP)  TDF (kg)  ABW (gm)  \\\n",
       "0        8.25              5.78                    56       1.7     0.008   \n",
       "1        8.25              5.60                    31       2.4     0.023   \n",
       "2        8.05              5.33                    29       3.4     0.037   \n",
       "3        8.00              5.46                    44       4.2     0.052   \n",
       "4        8.00              5.43                    57       5.0     0.066   \n",
       "\n",
       "   Water temperature (˚C)  PH change  Ammonia (ppm)  Water exchange (cm)  \n",
       "0                   29.10        0.3          0.026                    0  \n",
       "1                   28.65        0.1          0.028                    0  \n",
       "2                   28.10        0.1          0.023                    5  \n",
       "3                   28.40        0.0          0.018                    0  \n",
       "4                   28.15        0.2          0.030                    0  "
      ]
     },
     "execution_count": 4,
     "metadata": {},
     "output_type": "execute_result"
    }
   ],
   "source": [
    "df=pd.read_excel('ABW.xlsx')\n",
    "df.head()"
   ]
  },
  {
   "cell_type": "code",
   "execution_count": 5,
   "id": "8d6c775a",
   "metadata": {},
   "outputs": [
    {
     "data": {
      "text/html": [
       "<div>\n",
       "<style scoped>\n",
       "    .dataframe tbody tr th:only-of-type {\n",
       "        vertical-align: middle;\n",
       "    }\n",
       "\n",
       "    .dataframe tbody tr th {\n",
       "        vertical-align: top;\n",
       "    }\n",
       "\n",
       "    .dataframe thead th {\n",
       "        text-align: right;\n",
       "    }\n",
       "</style>\n",
       "<table border=\"1\" class=\"dataframe\">\n",
       "  <thead>\n",
       "    <tr style=\"text-align: right;\">\n",
       "      <th></th>\n",
       "      <th>DataType</th>\n",
       "    </tr>\n",
       "  </thead>\n",
       "  <tbody>\n",
       "    <tr>\n",
       "      <th>DOC</th>\n",
       "      <td>int64</td>\n",
       "    </tr>\n",
       "    <tr>\n",
       "      <th>Salinity (ppt)</th>\n",
       "      <td>int64</td>\n",
       "    </tr>\n",
       "    <tr>\n",
       "      <th>SDR (cm)</th>\n",
       "      <td>int64</td>\n",
       "    </tr>\n",
       "    <tr>\n",
       "      <th>Water colour</th>\n",
       "      <td>int64</td>\n",
       "    </tr>\n",
       "    <tr>\n",
       "      <th>Water level (cm)</th>\n",
       "      <td>int64</td>\n",
       "    </tr>\n",
       "    <tr>\n",
       "      <th>TSS (ml/L)</th>\n",
       "      <td>float64</td>\n",
       "    </tr>\n",
       "    <tr>\n",
       "      <th>Average PH</th>\n",
       "      <td>float64</td>\n",
       "    </tr>\n",
       "    <tr>\n",
       "      <th>Average DO (ppm)</th>\n",
       "      <td>float64</td>\n",
       "    </tr>\n",
       "    <tr>\n",
       "      <th>Running aerator (HP)</th>\n",
       "      <td>int64</td>\n",
       "    </tr>\n",
       "    <tr>\n",
       "      <th>TDF (kg)</th>\n",
       "      <td>float64</td>\n",
       "    </tr>\n",
       "    <tr>\n",
       "      <th>ABW (gm)</th>\n",
       "      <td>float64</td>\n",
       "    </tr>\n",
       "    <tr>\n",
       "      <th>Water temperature (˚C)</th>\n",
       "      <td>float64</td>\n",
       "    </tr>\n",
       "    <tr>\n",
       "      <th>PH change</th>\n",
       "      <td>float64</td>\n",
       "    </tr>\n",
       "    <tr>\n",
       "      <th>Ammonia (ppm)</th>\n",
       "      <td>float64</td>\n",
       "    </tr>\n",
       "    <tr>\n",
       "      <th>Water exchange (cm)</th>\n",
       "      <td>int64</td>\n",
       "    </tr>\n",
       "  </tbody>\n",
       "</table>\n",
       "</div>"
      ],
      "text/plain": [
       "                       DataType\n",
       "DOC                       int64\n",
       "Salinity (ppt)            int64\n",
       "SDR (cm)                  int64\n",
       "Water colour              int64\n",
       "Water level (cm)          int64\n",
       "TSS (ml/L)              float64\n",
       "Average PH              float64\n",
       "Average DO (ppm)        float64\n",
       "Running aerator (HP)      int64\n",
       "TDF (kg)                float64\n",
       "ABW (gm)                float64\n",
       "Water temperature (˚C)  float64\n",
       "PH change               float64\n",
       "Ammonia (ppm)           float64\n",
       "Water exchange (cm)       int64"
      ]
     },
     "execution_count": 5,
     "metadata": {},
     "output_type": "execute_result"
    }
   ],
   "source": [
    "data=pd.DataFrame(df.dtypes)\n",
    "data=data.rename(columns={0:'DataType'})\n",
    "data"
   ]
  },
  {
   "cell_type": "code",
   "execution_count": 6,
   "id": "81ea9674",
   "metadata": {},
   "outputs": [
    {
     "data": {
      "text/plain": [
       "DOC                       0\n",
       "Salinity (ppt)            0\n",
       "SDR (cm)                  0\n",
       "Water colour              0\n",
       "Water level (cm)          0\n",
       "TSS (ml/L)                0\n",
       "Average PH                0\n",
       "Average DO (ppm)          0\n",
       "Running aerator (HP)      0\n",
       "TDF (kg)                  0\n",
       "ABW (gm)                  0\n",
       "Water temperature (˚C)    0\n",
       "PH change                 0\n",
       "Ammonia (ppm)             0\n",
       "Water exchange (cm)       0\n",
       "dtype: int64"
      ]
     },
     "execution_count": 6,
     "metadata": {},
     "output_type": "execute_result"
    }
   ],
   "source": [
    "df.isnull().sum()"
   ]
  },
  {
   "cell_type": "code",
   "execution_count": 7,
   "id": "54554899",
   "metadata": {},
   "outputs": [
    {
     "data": {
      "text/html": [
       "<div>\n",
       "<style scoped>\n",
       "    .dataframe tbody tr th:only-of-type {\n",
       "        vertical-align: middle;\n",
       "    }\n",
       "\n",
       "    .dataframe tbody tr th {\n",
       "        vertical-align: top;\n",
       "    }\n",
       "\n",
       "    .dataframe thead th {\n",
       "        text-align: right;\n",
       "    }\n",
       "</style>\n",
       "<table border=\"1\" class=\"dataframe\">\n",
       "  <thead>\n",
       "    <tr style=\"text-align: right;\">\n",
       "      <th></th>\n",
       "      <th>DOC</th>\n",
       "      <th>Salinity (ppt)</th>\n",
       "      <th>Average PH</th>\n",
       "      <th>Average DO (ppm)</th>\n",
       "      <th>TSS (ml/L)</th>\n",
       "      <th>TDF (kg)</th>\n",
       "    </tr>\n",
       "  </thead>\n",
       "  <tbody>\n",
       "    <tr>\n",
       "      <th>0</th>\n",
       "      <td>1</td>\n",
       "      <td>16</td>\n",
       "      <td>8.25</td>\n",
       "      <td>5.78</td>\n",
       "      <td>1.0</td>\n",
       "      <td>1.7</td>\n",
       "    </tr>\n",
       "    <tr>\n",
       "      <th>1</th>\n",
       "      <td>2</td>\n",
       "      <td>16</td>\n",
       "      <td>8.25</td>\n",
       "      <td>5.60</td>\n",
       "      <td>2.0</td>\n",
       "      <td>2.4</td>\n",
       "    </tr>\n",
       "    <tr>\n",
       "      <th>2</th>\n",
       "      <td>3</td>\n",
       "      <td>16</td>\n",
       "      <td>8.05</td>\n",
       "      <td>5.33</td>\n",
       "      <td>0.5</td>\n",
       "      <td>3.4</td>\n",
       "    </tr>\n",
       "    <tr>\n",
       "      <th>3</th>\n",
       "      <td>4</td>\n",
       "      <td>16</td>\n",
       "      <td>8.00</td>\n",
       "      <td>5.46</td>\n",
       "      <td>0.5</td>\n",
       "      <td>4.2</td>\n",
       "    </tr>\n",
       "    <tr>\n",
       "      <th>4</th>\n",
       "      <td>5</td>\n",
       "      <td>16</td>\n",
       "      <td>8.00</td>\n",
       "      <td>5.43</td>\n",
       "      <td>0.5</td>\n",
       "      <td>5.0</td>\n",
       "    </tr>\n",
       "    <tr>\n",
       "      <th>...</th>\n",
       "      <td>...</td>\n",
       "      <td>...</td>\n",
       "      <td>...</td>\n",
       "      <td>...</td>\n",
       "      <td>...</td>\n",
       "      <td>...</td>\n",
       "    </tr>\n",
       "    <tr>\n",
       "      <th>395</th>\n",
       "      <td>96</td>\n",
       "      <td>22</td>\n",
       "      <td>7.70</td>\n",
       "      <td>4.78</td>\n",
       "      <td>6.0</td>\n",
       "      <td>460.0</td>\n",
       "    </tr>\n",
       "    <tr>\n",
       "      <th>396</th>\n",
       "      <td>97</td>\n",
       "      <td>23</td>\n",
       "      <td>7.75</td>\n",
       "      <td>4.72</td>\n",
       "      <td>4.0</td>\n",
       "      <td>400.0</td>\n",
       "    </tr>\n",
       "    <tr>\n",
       "      <th>397</th>\n",
       "      <td>98</td>\n",
       "      <td>23</td>\n",
       "      <td>7.75</td>\n",
       "      <td>5.33</td>\n",
       "      <td>5.0</td>\n",
       "      <td>410.0</td>\n",
       "    </tr>\n",
       "    <tr>\n",
       "      <th>398</th>\n",
       "      <td>99</td>\n",
       "      <td>23</td>\n",
       "      <td>7.70</td>\n",
       "      <td>4.85</td>\n",
       "      <td>6.0</td>\n",
       "      <td>400.0</td>\n",
       "    </tr>\n",
       "    <tr>\n",
       "      <th>399</th>\n",
       "      <td>100</td>\n",
       "      <td>23</td>\n",
       "      <td>7.70</td>\n",
       "      <td>4.95</td>\n",
       "      <td>5.0</td>\n",
       "      <td>400.0</td>\n",
       "    </tr>\n",
       "  </tbody>\n",
       "</table>\n",
       "<p>400 rows × 6 columns</p>\n",
       "</div>"
      ],
      "text/plain": [
       "     DOC  Salinity (ppt)  Average PH  Average DO (ppm)  TSS (ml/L)  TDF (kg)\n",
       "0      1              16        8.25              5.78         1.0       1.7\n",
       "1      2              16        8.25              5.60         2.0       2.4\n",
       "2      3              16        8.05              5.33         0.5       3.4\n",
       "3      4              16        8.00              5.46         0.5       4.2\n",
       "4      5              16        8.00              5.43         0.5       5.0\n",
       "..   ...             ...         ...               ...         ...       ...\n",
       "395   96              22        7.70              4.78         6.0     460.0\n",
       "396   97              23        7.75              4.72         4.0     400.0\n",
       "397   98              23        7.75              5.33         5.0     410.0\n",
       "398   99              23        7.70              4.85         6.0     400.0\n",
       "399  100              23        7.70              4.95         5.0     400.0\n",
       "\n",
       "[400 rows x 6 columns]"
      ]
     },
     "execution_count": 7,
     "metadata": {},
     "output_type": "execute_result"
    }
   ],
   "source": [
    "x=df[['DOC', 'Salinity (ppt)',  'Average PH', 'Average DO (ppm)', 'TSS (ml/L)', 'TDF (kg)']]\n",
    "x"
   ]
  },
  {
   "cell_type": "code",
   "execution_count": 8,
   "id": "b70c9c25",
   "metadata": {},
   "outputs": [
    {
     "data": {
      "text/plain": [
       "0       0.008\n",
       "1       0.023\n",
       "2       0.037\n",
       "3       0.052\n",
       "4       0.066\n",
       "        ...  \n",
       "395    19.100\n",
       "396    19.200\n",
       "397    19.300\n",
       "398    19.400\n",
       "399    19.500\n",
       "Name: ABW (gm), Length: 400, dtype: float64"
      ]
     },
     "execution_count": 8,
     "metadata": {},
     "output_type": "execute_result"
    }
   ],
   "source": [
    "y=df['ABW (gm)']\n",
    "y"
   ]
  },
  {
   "cell_type": "code",
   "execution_count": 9,
   "id": "95108215",
   "metadata": {},
   "outputs": [],
   "source": [
    "from sklearn.preprocessing import StandardScaler\n",
    "rs=StandardScaler()\n",
    "x=rs.fit_transform(x)"
   ]
  },
  {
   "cell_type": "code",
   "execution_count": 10,
   "id": "07feb300",
   "metadata": {},
   "outputs": [],
   "source": [
    "from sklearn.model_selection import train_test_split\n",
    "from sklearn.linear_model import LinearRegression"
   ]
  },
  {
   "cell_type": "code",
   "execution_count": 11,
   "id": "e8375354",
   "metadata": {},
   "outputs": [],
   "source": [
    "x_train, x_test, y_train, y_test = train_test_split(x, y, test_size=0.2, random_state=42)"
   ]
  },
  {
   "cell_type": "code",
   "execution_count": 12,
   "id": "73a94a8e",
   "metadata": {},
   "outputs": [
    {
     "data": {
      "text/plain": [
       "LinearRegression()"
      ]
     },
     "execution_count": 12,
     "metadata": {},
     "output_type": "execute_result"
    }
   ],
   "source": [
    "linreg=LinearRegression()\n",
    "linreg.fit(x_train, y_train)"
   ]
  },
  {
   "cell_type": "code",
   "execution_count": 13,
   "id": "bfd9beb2",
   "metadata": {},
   "outputs": [],
   "source": [
    "y_pred=linreg.predict(x_test) "
   ]
  },
  {
   "cell_type": "code",
   "execution_count": 14,
   "id": "74f4b0bf",
   "metadata": {},
   "outputs": [
    {
     "data": {
      "text/plain": [
       "0.9595989273627147"
      ]
     },
     "execution_count": 14,
     "metadata": {},
     "output_type": "execute_result"
    }
   ],
   "source": [
    "linreg.score(x_test, y_test)"
   ]
  },
  {
   "cell_type": "code",
   "execution_count": 15,
   "id": "1e5a5e33",
   "metadata": {},
   "outputs": [
    {
     "data": {
      "text/plain": [
       "0.9663070784395633"
      ]
     },
     "execution_count": 15,
     "metadata": {},
     "output_type": "execute_result"
    }
   ],
   "source": [
    "linreg.score(x_train,y_train)"
   ]
  },
  {
   "cell_type": "code",
   "execution_count": 17,
   "id": "db87e094",
   "metadata": {},
   "outputs": [
    {
     "name": "stdout",
     "output_type": "stream",
     "text": [
      "1.2317609084911747\n",
      "2.2655548094465146\n",
      "1.505176006135666\n",
      "0.9595989273627147\n",
      "6.670388958217032\n"
     ]
    }
   ],
   "source": [
    "from sklearn.metrics import r2_score, mean_absolute_percentage_error\n",
    "from sklearn.metrics import mean_squared_error\n",
    "from math import sqrt\n",
    "from sklearn.metrics import mean_absolute_error\n",
    "print(mean_absolute_error(y_test, y_pred))\n",
    "print(mean_squared_error(y_test, y_pred))\n",
    "print(np.sqrt(mean_squared_error(y_test, y_pred)))\n",
    "print(r2_score(y_test, y_pred))\n",
    "print(mean_absolute_percentage_error(y_test, y_pred))"
   ]
  },
  {
   "cell_type": "code",
   "execution_count": 18,
   "id": "d684c9b6",
   "metadata": {},
   "outputs": [
    {
     "data": {
      "image/png": "[encoded data removed]",
      "text/plain": [
       "<Figure size 432x288 with 1 Axes>"
      ]
     },
     "metadata": {
      "needs_background": "light"
     },
     "output_type": "display_data"
    },
    {
     "data": {
      "text/plain": [
       "<Figure size 720x576 with 0 Axes>"
      ]
     },
     "metadata": {},
     "output_type": "display_data"
    }
   ],
   "source": [
    "fig, ax = plt.subplots()\n",
    "plt.figure(figsize=(10,8))\n",
    "ax.scatter(y_test, y_pred, edgecolors=(0,0,0),s=60)\n",
    "ax.plot([y_test.min(), y_test.max()], [y_pred.min(), y_pred.max()],\"k-\",lw=3)\n",
    "ax.set_xlabel(\"Observed value\")\n",
    "ax.set_ylabel(\"Predicted value\")\n",
    "ax.set_title('Linear Regression')\n",
    "plt.show()"
   ]
  },
  {
   "cell_type": "code",
   "execution_count": 19,
   "id": "1aa481aa",
   "metadata": {},
   "outputs": [],
   "source": [
    "from sklearn.tree import DecisionTreeRegressor"
   ]
  },
  {
   "cell_type": "code",
   "execution_count": 20,
   "id": "5f768ef4",
   "metadata": {},
   "outputs": [
    {
     "data": {
      "text/plain": [
       "DecisionTreeRegressor(random_state=42)"
      ]
     },
     "execution_count": 20,
     "metadata": {},
     "output_type": "execute_result"
    }
   ],
   "source": [
    "treereg=DecisionTreeRegressor(splitter='best',\n",
    "    max_depth=None,\n",
    "    min_samples_split=2,\n",
    "    min_samples_leaf=1, random_state=42)\n",
    "treereg.fit(x_train, y_train)"
   ]
  },
  {
   "cell_type": "code",
   "execution_count": 21,
   "id": "894fae98",
   "metadata": {},
   "outputs": [],
   "source": [
    "ytree_pred=treereg.predict(x_test)"
   ]
  },
  {
   "cell_type": "code",
   "execution_count": 22,
   "id": "861a8809",
   "metadata": {},
   "outputs": [
    {
     "data": {
      "text/plain": [
       "1.0"
      ]
     },
     "execution_count": 22,
     "metadata": {},
     "output_type": "execute_result"
    }
   ],
   "source": [
    "treereg.score(x_train, y_train)"
   ]
  },
  {
   "cell_type": "code",
   "execution_count": 23,
   "id": "02343816",
   "metadata": {},
   "outputs": [
    {
     "data": {
      "text/plain": [
       "0.9943804461705147"
      ]
     },
     "execution_count": 23,
     "metadata": {},
     "output_type": "execute_result"
    }
   ],
   "source": [
    "treereg.score(x_test,y_test)"
   ]
  },
  {
   "cell_type": "code",
   "execution_count": 25,
   "id": "7794ea25",
   "metadata": {},
   "outputs": [
    {
     "name": "stdout",
     "output_type": "stream",
     "text": [
      "0.35337500000000005\n",
      "0.31512547500000004\n",
      "0.561360378901112\n",
      "0.9943804461705147\n",
      "0.06697731024195748\n"
     ]
    }
   ],
   "source": [
    "print(mean_absolute_error(y_test, ytree_pred))\n",
    "print(mean_squared_error(y_test, ytree_pred))\n",
    "print(np.sqrt(mean_squared_error(y_test, ytree_pred)))\n",
    "print(r2_score(y_test, ytree_pred))\n",
    "print(mean_absolute_percentage_error(y_test, ytree_pred))"
   ]
  },
  {
   "cell_type": "code",
   "execution_count": 26,
   "id": "0a885542",
   "metadata": {},
   "outputs": [
    {
     "data": {
      "image/png": "[encoded data removed]",
      "text/plain": [
       "<Figure size 432x288 with 1 Axes>"
      ]
     },
     "metadata": {
      "needs_background": "light"
     },
     "output_type": "display_data"
    },
    {
     "data": {
      "text/plain": [
       "<Figure size 720x576 with 0 Axes>"
      ]
     },
     "metadata": {},
     "output_type": "display_data"
    }
   ],
   "source": [
    "fig, ax = plt.subplots()\n",
    "plt.figure(figsize=(10,8))\n",
    "ax.scatter(y_test, ytree_pred, edgecolors=(0,0,0),s=60)\n",
    "ax.plot([y_test.min(), y_test.max()], [ytree_pred.min(), ytree_pred.max()],\"k-\",lw=3)\n",
    "ax.set_xlabel(\"Observed value\")\n",
    "ax.set_ylabel(\"Predicted value\")\n",
    "ax.set_title('Decision Regression')\n",
    "plt.show()"
   ]
  },
  {
   "cell_type": "code",
   "execution_count": 27,
   "id": "5a5ea11f",
   "metadata": {},
   "outputs": [],
   "source": [
    "from sklearn.ensemble import AdaBoostRegressor"
   ]
  },
  {
   "cell_type": "code",
   "execution_count": 28,
   "id": "73b14373",
   "metadata": {},
   "outputs": [
    {
     "data": {
      "text/plain": [
       "AdaBoostRegressor(random_state=42)"
      ]
     },
     "execution_count": 28,
     "metadata": {},
     "output_type": "execute_result"
    }
   ],
   "source": [
    "adareg=AdaBoostRegressor(random_state=42, n_estimators=50)\n",
    "adareg.fit(x_train, y_train)"
   ]
  },
  {
   "cell_type": "code",
   "execution_count": 29,
   "id": "87f81172",
   "metadata": {},
   "outputs": [],
   "source": [
    "yada_pred=adareg.predict(x_test)"
   ]
  },
  {
   "cell_type": "code",
   "execution_count": 30,
   "id": "4f859252",
   "metadata": {},
   "outputs": [
    {
     "data": {
      "text/plain": [
       "0.9890105522801852"
      ]
     },
     "execution_count": 30,
     "metadata": {},
     "output_type": "execute_result"
    }
   ],
   "source": [
    "adareg.score(x_train, y_train)"
   ]
  },
  {
   "cell_type": "code",
   "execution_count": 31,
   "id": "5446736d",
   "metadata": {},
   "outputs": [
    {
     "data": {
      "text/plain": [
       "0.9859668881068431"
      ]
     },
     "execution_count": 31,
     "metadata": {},
     "output_type": "execute_result"
    }
   ],
   "source": [
    "adareg.score(x_test, y_test)"
   ]
  },
  {
   "cell_type": "code",
   "execution_count": 32,
   "id": "9111cf5a",
   "metadata": {},
   "outputs": [
    {
     "name": "stdout",
     "output_type": "stream",
     "text": [
      "0.7460881143259992\n",
      "0.7869292091938649\n",
      "0.8870903049824549\n",
      "0.9859668881068431\n",
      "3.001624824399181\n"
     ]
    }
   ],
   "source": [
    "print(mean_absolute_error(y_test, yada_pred))\n",
    "print(mean_squared_error(y_test, yada_pred))\n",
    "print(np.sqrt(mean_squared_error(y_test, yada_pred)))\n",
    "print(r2_score(y_test, yada_pred))\n",
    "print(mean_absolute_percentage_error(y_test, yada_pred))"
   ]
  },
  {
   "cell_type": "code",
   "execution_count": 33,
   "id": "dd1483bd",
   "metadata": {},
   "outputs": [
    {
     "data": {
      "image/png": "[encoded data removed]",
      "text/plain": [
       "<Figure size 432x288 with 1 Axes>"
      ]
     },
     "metadata": {
      "needs_background": "light"
     },
     "output_type": "display_data"
    },
    {
     "data": {
      "text/plain": [
       "<Figure size 720x576 with 0 Axes>"
      ]
     },
     "metadata": {},
     "output_type": "display_data"
    }
   ],
   "source": [
    "fig, ax = plt.subplots()\n",
    "plt.figure(figsize=(10,8))\n",
    "ax.scatter(y_test,yada_pred, edgecolors=(0,0,0),s=60)\n",
    "ax.plot([y_test.min(), y_test.max()], [yada_pred.min(), yada_pred.max()],\"k-\",lw=3)\n",
    "ax.set_xlabel(\"Observed value\")\n",
    "ax.set_ylabel(\"Predicted value\")\n",
    "ax.set_title('AdaBoost Regression')\n",
    "plt.show()"
   ]
  },
  {
   "cell_type": "code",
   "execution_count": 34,
   "id": "3f58ec1c",
   "metadata": {},
   "outputs": [],
   "source": [
    "from sklearn.ensemble import GradientBoostingRegressor"
   ]
  },
  {
   "cell_type": "code",
   "execution_count": 35,
   "id": "46ff2610",
   "metadata": {},
   "outputs": [
    {
     "data": {
      "text/plain": [
       "GradientBoostingRegressor(random_state=42)"
      ]
     },
     "execution_count": 35,
     "metadata": {},
     "output_type": "execute_result"
    }
   ],
   "source": [
    "gbrreg=GradientBoostingRegressor(n_estimators=100, learning_rate=0.1, max_depth=3, random_state=42, loss='ls',min_samples_leaf=1)\n",
    "gbrreg.fit(x_train, y_train)"
   ]
  },
  {
   "cell_type": "code",
   "execution_count": 36,
   "id": "ce4289ff",
   "metadata": {},
   "outputs": [],
   "source": [
    "ygbr_pred=gbrreg.predict(x_test)"
   ]
  },
  {
   "cell_type": "code",
   "execution_count": 37,
   "id": "41b066c9",
   "metadata": {},
   "outputs": [
    {
     "data": {
      "text/plain": [
       "0.9990989712257233"
      ]
     },
     "execution_count": 37,
     "metadata": {},
     "output_type": "execute_result"
    }
   ],
   "source": [
    "gbrreg.score(x_train, y_train)"
   ]
  },
  {
   "cell_type": "code",
   "execution_count": 38,
   "id": "ed3a36f6",
   "metadata": {},
   "outputs": [
    {
     "data": {
      "text/plain": [
       "0.9964806862977933"
      ]
     },
     "execution_count": 38,
     "metadata": {},
     "output_type": "execute_result"
    }
   ],
   "source": [
    "gbrreg.score(x_test, y_test)"
   ]
  },
  {
   "cell_type": "code",
   "execution_count": 39,
   "id": "7f5b6bb1",
   "metadata": {},
   "outputs": [
    {
     "name": "stdout",
     "output_type": "stream",
     "text": [
      "0.34266560725634176\n",
      "0.19735114846002874\n",
      "0.4442422182323836\n",
      "0.9964806862977933\n",
      "0.18541719700967488\n"
     ]
    }
   ],
   "source": [
    "print(mean_absolute_error(y_test, ygbr_pred))\n",
    "print(mean_squared_error(y_test, ygbr_pred))\n",
    "print(np.sqrt(mean_squared_error(y_test, ygbr_pred)))\n",
    "print(r2_score(y_test, ygbr_pred))\n",
    "print(mean_absolute_percentage_error(y_test, ygbr_pred))"
   ]
  },
  {
   "cell_type": "code",
   "execution_count": 40,
   "id": "7dd2c833",
   "metadata": {},
   "outputs": [
    {
     "data": {
      "image/png": "[encoded data removed]",
      "text/plain": [
       "<Figure size 432x288 with 1 Axes>"
      ]
     },
     "metadata": {
      "needs_background": "light"
     },
     "output_type": "display_data"
    },
    {
     "data": {
      "text/plain": [
       "<Figure size 720x576 with 0 Axes>"
      ]
     },
     "metadata": {},
     "output_type": "display_data"
    }
   ],
   "source": [
    "fig, ax = plt.subplots()\n",
    "plt.figure(figsize=(10,8))\n",
    "ax.scatter(y_test,ygbr_pred, edgecolors=(0,0,0),s=60)\n",
    "ax.plot([y_test.min(), y_test.max()], [ygbr_pred.min(), ygbr_pred.max()],\"k-\",lw=3)\n",
    "ax.set_xlabel(\"Observed value\")\n",
    "ax.set_ylabel(\"Predicted value\")\n",
    "ax.set_title('Gradient Tree Boosting')\n",
    "plt.show()"
   ]
  },
  {
   "cell_type": "code",
   "execution_count": 41,
   "id": "4fcfe8e9",
   "metadata": {},
   "outputs": [],
   "source": [
    "from sklearn.ensemble import RandomForestRegressor"
   ]
  },
  {
   "cell_type": "code",
   "execution_count": 42,
   "id": "67cdb83c",
   "metadata": {},
   "outputs": [
    {
     "data": {
      "text/plain": [
       "RandomForestRegressor(random_state=42)"
      ]
     },
     "execution_count": 42,
     "metadata": {},
     "output_type": "execute_result"
    }
   ],
   "source": [
    "rf=RandomForestRegressor(n_estimators=100, min_samples_split=2, min_samples_leaf=1, random_state=42,max_depth=None)\n",
    "rf.fit(x_train, y_train)"
   ]
  },
  {
   "cell_type": "code",
   "execution_count": 43,
   "id": "723ef84f",
   "metadata": {},
   "outputs": [],
   "source": [
    "yrf_pred=rf.predict(x_test)"
   ]
  },
  {
   "cell_type": "code",
   "execution_count": 44,
   "id": "bbf273df",
   "metadata": {},
   "outputs": [
    {
     "data": {
      "text/plain": [
       "0.99942593319744"
      ]
     },
     "execution_count": 44,
     "metadata": {},
     "output_type": "execute_result"
    }
   ],
   "source": [
    "rf.score(x_train, y_train)"
   ]
  },
  {
   "cell_type": "code",
   "execution_count": 45,
   "id": "1844e3a0",
   "metadata": {},
   "outputs": [
    {
     "data": {
      "text/plain": [
       "0.9965780099318104"
      ]
     },
     "execution_count": 45,
     "metadata": {},
     "output_type": "execute_result"
    }
   ],
   "source": [
    "rf.score(x_test, y_test)"
   ]
  },
  {
   "cell_type": "code",
   "execution_count": 46,
   "id": "8ee1ab61",
   "metadata": {},
   "outputs": [
    {
     "name": "stdout",
     "output_type": "stream",
     "text": [
      "0.3056425000000015\n",
      "0.19189356991750123\n",
      "0.43805658300897754\n",
      "0.9965780099318104\n",
      "0.06458172758865001\n"
     ]
    }
   ],
   "source": [
    "print(mean_absolute_error(y_test, yrf_pred))\n",
    "print(mean_squared_error(y_test, yrf_pred))\n",
    "print(np.sqrt(mean_squared_error(y_test, yrf_pred)))\n",
    "print(r2_score(y_test, yrf_pred))\n",
    "print(mean_absolute_percentage_error(y_test, yrf_pred))"
   ]
  },
  {
   "cell_type": "code",
   "execution_count": 47,
   "id": "d656e778",
   "metadata": {},
   "outputs": [
    {
     "data": {
      "image/png": "[encoded data removed]",
      "text/plain": [
       "<Figure size 432x288 with 1 Axes>"
      ]
     },
     "metadata": {
      "needs_background": "light"
     },
     "output_type": "display_data"
    },
    {
     "data": {
      "text/plain": [
       "<Figure size 720x576 with 0 Axes>"
      ]
     },
     "metadata": {},
     "output_type": "display_data"
    }
   ],
   "source": [
    "fig, ax = plt.subplots()\n",
    "plt.figure(figsize=(10,8))\n",
    "ax.scatter(y_test,yrf_pred, edgecolors=(0,0,0),s=60)\n",
    "ax.plot([y_test.min(), y_test.max()], [yrf_pred.min(), yrf_pred.max()],\"k-\",lw=3)\n",
    "ax.set_xlabel(\"Observed value\")\n",
    "ax.set_ylabel(\"Predicted value\")\n",
    "ax.set_title('Random Forest Regression')\n",
    "plt.show()"
   ]
  },
  {
   "cell_type": "code",
   "execution_count": 48,
   "id": "1e5b03f3",
   "metadata": {},
   "outputs": [],
   "source": [
    "Dif=pd.DataFrame(np.c_[y_test,y_pred, yada_pred, yrf_pred],columns=[\"acutual value\",\"predicted value(linear)\", \"ADA predicted value\", \"RF Predicted value\"])"
   ]
  },
  {
   "cell_type": "code",
   "execution_count": 49,
   "id": "b9fac426",
   "metadata": {},
   "outputs": [
    {
     "data": {
      "text/html": [
       "<div>\n",
       "<style scoped>\n",
       "    .dataframe tbody tr th:only-of-type {\n",
       "        vertical-align: middle;\n",
       "    }\n",
       "\n",
       "    .dataframe tbody tr th {\n",
       "        vertical-align: top;\n",
       "    }\n",
       "\n",
       "    .dataframe thead th {\n",
       "        text-align: right;\n",
       "    }\n",
       "</style>\n",
       "<table border=\"1\" class=\"dataframe\">\n",
       "  <thead>\n",
       "    <tr style=\"text-align: right;\">\n",
       "      <th></th>\n",
       "      <th>acutual value</th>\n",
       "      <th>predicted value(linear)</th>\n",
       "      <th>ADA predicted value</th>\n",
       "      <th>RF Predicted value</th>\n",
       "    </tr>\n",
       "  </thead>\n",
       "  <tbody>\n",
       "    <tr>\n",
       "      <th>0</th>\n",
       "      <td>0.905</td>\n",
       "      <td>-0.251217</td>\n",
       "      <td>1.222077</td>\n",
       "      <td>1.00779</td>\n",
       "    </tr>\n",
       "    <tr>\n",
       "      <th>1</th>\n",
       "      <td>17.840</td>\n",
       "      <td>17.034150</td>\n",
       "      <td>17.181222</td>\n",
       "      <td>17.97662</td>\n",
       "    </tr>\n",
       "    <tr>\n",
       "      <th>2</th>\n",
       "      <td>3.800</td>\n",
       "      <td>5.701650</td>\n",
       "      <td>3.456326</td>\n",
       "      <td>3.76034</td>\n",
       "    </tr>\n",
       "    <tr>\n",
       "      <th>3</th>\n",
       "      <td>1.010</td>\n",
       "      <td>-0.363683</td>\n",
       "      <td>1.222077</td>\n",
       "      <td>1.04970</td>\n",
       "    </tr>\n",
       "    <tr>\n",
       "      <th>4</th>\n",
       "      <td>23.380</td>\n",
       "      <td>22.832850</td>\n",
       "      <td>22.729565</td>\n",
       "      <td>22.98710</td>\n",
       "    </tr>\n",
       "  </tbody>\n",
       "</table>\n",
       "</div>"
      ],
      "text/plain": [
       "   acutual value  predicted value(linear)  ADA predicted value  \\\n",
       "0          0.905                -0.251217             1.222077   \n",
       "1         17.840                17.034150            17.181222   \n",
       "2          3.800                 5.701650             3.456326   \n",
       "3          1.010                -0.363683             1.222077   \n",
       "4         23.380                22.832850            22.729565   \n",
       "\n",
       "   RF Predicted value  \n",
       "0             1.00779  \n",
       "1            17.97662  \n",
       "2             3.76034  \n",
       "3             1.04970  \n",
       "4            22.98710  "
      ]
     },
     "execution_count": 49,
     "metadata": {},
     "output_type": "execute_result"
    }
   ],
   "source": [
    "Dif.head()"
   ]
  },
  {
   "cell_type": "code",
   "execution_count": null,
   "id": "73bc632c",
   "metadata": {},
   "outputs": [],
   "source": []
  }
 ],
 "metadata": {
  "kernelspec": {
   "display_name": "Python 3 (ipykernel)",
   "language": "python",
   "name": "python3"
  },
  "language_info": {
   "codemirror_mode": {
    "name": "ipython",
    "version": 3
   },
   "file_extension": ".py",
   "mimetype": "text/x-python",
   "name": "python",
   "nbconvert_exporter": "python",
   "pygments_lexer": "ipython3",
   "version": "3.9.7"
  }
 },
 "nbformat": 4,
 "nbformat_minor": 5
}
