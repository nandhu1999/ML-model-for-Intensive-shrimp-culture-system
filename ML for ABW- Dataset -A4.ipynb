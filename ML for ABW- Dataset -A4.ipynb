{
 "cells": [
  {
   "cell_type": "markdown",
   "id": "7b4dbf4f",
   "metadata": {},
   "source": [
    "## Average shrimp  body weight prediction model develpment using Dataset-A3"
   ]
  },
  {
   "cell_type": "code",
   "execution_count": 1,
   "id": "8982f678",
   "metadata": {},
   "outputs": [],
   "source": [
    "import pandas as pd\n",
    "import numpy as np\n",
    "import seaborn as sns\n",
    "import matplotlib.pyplot as plt\n",
    "%matplotlib inline"
   ]
  },
  {
   "cell_type": "code",
   "execution_count": 2,
   "id": "d284a247",
   "metadata": {},
   "outputs": [
    {
     "data": {
      "text/html": [
       "<div>\n",
       "<style scoped>\n",
       "    .dataframe tbody tr th:only-of-type {\n",
       "        vertical-align: middle;\n",
       "    }\n",
       "\n",
       "    .dataframe tbody tr th {\n",
       "        vertical-align: top;\n",
       "    }\n",
       "\n",
       "    .dataframe thead th {\n",
       "        text-align: right;\n",
       "    }\n",
       "</style>\n",
       "<table border=\"1\" class=\"dataframe\">\n",
       "  <thead>\n",
       "    <tr style=\"text-align: right;\">\n",
       "      <th></th>\n",
       "      <th>DOC</th>\n",
       "      <th>Salinity (ppt)</th>\n",
       "      <th>SDR (cm)</th>\n",
       "      <th>Water colour</th>\n",
       "      <th>Water level (cm)</th>\n",
       "      <th>TSS (ml/L)</th>\n",
       "      <th>Average PH</th>\n",
       "      <th>Average DO (ppm)</th>\n",
       "      <th>Running aerator (HP)</th>\n",
       "      <th>TDF (kg)</th>\n",
       "      <th>ABW (gm)</th>\n",
       "      <th>Water temperature (˚C)</th>\n",
       "      <th>PH change</th>\n",
       "      <th>Ammonia (ppm)</th>\n",
       "      <th>Water exchange (cm)</th>\n",
       "    </tr>\n",
       "  </thead>\n",
       "  <tbody>\n",
       "    <tr>\n",
       "      <th>0</th>\n",
       "      <td>1</td>\n",
       "      <td>16</td>\n",
       "      <td>50</td>\n",
       "      <td>4</td>\n",
       "      <td>120</td>\n",
       "      <td>1.0</td>\n",
       "      <td>8.25</td>\n",
       "      <td>5.78</td>\n",
       "      <td>56</td>\n",
       "      <td>1.7</td>\n",
       "      <td>0.008</td>\n",
       "      <td>29.10</td>\n",
       "      <td>0.3</td>\n",
       "      <td>0.026</td>\n",
       "      <td>0</td>\n",
       "    </tr>\n",
       "    <tr>\n",
       "      <th>1</th>\n",
       "      <td>2</td>\n",
       "      <td>16</td>\n",
       "      <td>48</td>\n",
       "      <td>5</td>\n",
       "      <td>120</td>\n",
       "      <td>2.0</td>\n",
       "      <td>8.25</td>\n",
       "      <td>5.60</td>\n",
       "      <td>31</td>\n",
       "      <td>2.4</td>\n",
       "      <td>0.023</td>\n",
       "      <td>28.65</td>\n",
       "      <td>0.1</td>\n",
       "      <td>0.028</td>\n",
       "      <td>0</td>\n",
       "    </tr>\n",
       "    <tr>\n",
       "      <th>2</th>\n",
       "      <td>3</td>\n",
       "      <td>16</td>\n",
       "      <td>55</td>\n",
       "      <td>4</td>\n",
       "      <td>132</td>\n",
       "      <td>0.5</td>\n",
       "      <td>8.05</td>\n",
       "      <td>5.33</td>\n",
       "      <td>29</td>\n",
       "      <td>3.4</td>\n",
       "      <td>0.037</td>\n",
       "      <td>28.10</td>\n",
       "      <td>0.1</td>\n",
       "      <td>0.023</td>\n",
       "      <td>5</td>\n",
       "    </tr>\n",
       "    <tr>\n",
       "      <th>3</th>\n",
       "      <td>4</td>\n",
       "      <td>16</td>\n",
       "      <td>60</td>\n",
       "      <td>4</td>\n",
       "      <td>128</td>\n",
       "      <td>0.5</td>\n",
       "      <td>8.00</td>\n",
       "      <td>5.46</td>\n",
       "      <td>44</td>\n",
       "      <td>4.2</td>\n",
       "      <td>0.052</td>\n",
       "      <td>28.40</td>\n",
       "      <td>0.0</td>\n",
       "      <td>0.018</td>\n",
       "      <td>0</td>\n",
       "    </tr>\n",
       "    <tr>\n",
       "      <th>4</th>\n",
       "      <td>5</td>\n",
       "      <td>16</td>\n",
       "      <td>45</td>\n",
       "      <td>4</td>\n",
       "      <td>126</td>\n",
       "      <td>0.5</td>\n",
       "      <td>8.00</td>\n",
       "      <td>5.43</td>\n",
       "      <td>57</td>\n",
       "      <td>5.0</td>\n",
       "      <td>0.066</td>\n",
       "      <td>28.15</td>\n",
       "      <td>0.2</td>\n",
       "      <td>0.030</td>\n",
       "      <td>0</td>\n",
       "    </tr>\n",
       "  </tbody>\n",
       "</table>\n",
       "</div>"
      ],
      "text/plain": [
       "   DOC  Salinity (ppt)  SDR (cm)  Water colour  Water level (cm)  TSS (ml/L)  \\\n",
       "0    1              16        50             4               120         1.0   \n",
       "1    2              16        48             5               120         2.0   \n",
       "2    3              16        55             4               132         0.5   \n",
       "3    4              16        60             4               128         0.5   \n",
       "4    5              16        45             4               126         0.5   \n",
       "\n",
       "   Average PH  Average DO (ppm)  Running aerator (HP)  TDF (kg)  ABW (gm)  \\\n",
       "0        8.25              5.78                    56       1.7     0.008   \n",
       "1        8.25              5.60                    31       2.4     0.023   \n",
       "2        8.05              5.33                    29       3.4     0.037   \n",
       "3        8.00              5.46                    44       4.2     0.052   \n",
       "4        8.00              5.43                    57       5.0     0.066   \n",
       "\n",
       "   Water temperature (˚C)  PH change  Ammonia (ppm)  Water exchange (cm)  \n",
       "0                   29.10        0.3          0.026                    0  \n",
       "1                   28.65        0.1          0.028                    0  \n",
       "2                   28.10        0.1          0.023                    5  \n",
       "3                   28.40        0.0          0.018                    0  \n",
       "4                   28.15        0.2          0.030                    0  "
      ]
     },
     "execution_count": 2,
     "metadata": {},
     "output_type": "execute_result"
    }
   ],
   "source": [
    "df=pd.read_excel('ABW.xlsx')\n",
    "df.head()"
   ]
  },
  {
   "cell_type": "code",
   "execution_count": 3,
   "id": "8d6c775a",
   "metadata": {},
   "outputs": [
    {
     "data": {
      "text/html": [
       "<div>\n",
       "<style scoped>\n",
       "    .dataframe tbody tr th:only-of-type {\n",
       "        vertical-align: middle;\n",
       "    }\n",
       "\n",
       "    .dataframe tbody tr th {\n",
       "        vertical-align: top;\n",
       "    }\n",
       "\n",
       "    .dataframe thead th {\n",
       "        text-align: right;\n",
       "    }\n",
       "</style>\n",
       "<table border=\"1\" class=\"dataframe\">\n",
       "  <thead>\n",
       "    <tr style=\"text-align: right;\">\n",
       "      <th></th>\n",
       "      <th>DataType</th>\n",
       "    </tr>\n",
       "  </thead>\n",
       "  <tbody>\n",
       "    <tr>\n",
       "      <th>DOC</th>\n",
       "      <td>int64</td>\n",
       "    </tr>\n",
       "    <tr>\n",
       "      <th>Salinity (ppt)</th>\n",
       "      <td>int64</td>\n",
       "    </tr>\n",
       "    <tr>\n",
       "      <th>SDR (cm)</th>\n",
       "      <td>int64</td>\n",
       "    </tr>\n",
       "    <tr>\n",
       "      <th>Water colour</th>\n",
       "      <td>int64</td>\n",
       "    </tr>\n",
       "    <tr>\n",
       "      <th>Water level (cm)</th>\n",
       "      <td>int64</td>\n",
       "    </tr>\n",
       "    <tr>\n",
       "      <th>TSS (ml/L)</th>\n",
       "      <td>float64</td>\n",
       "    </tr>\n",
       "    <tr>\n",
       "      <th>Average PH</th>\n",
       "      <td>float64</td>\n",
       "    </tr>\n",
       "    <tr>\n",
       "      <th>Average DO (ppm)</th>\n",
       "      <td>float64</td>\n",
       "    </tr>\n",
       "    <tr>\n",
       "      <th>Running aerator (HP)</th>\n",
       "      <td>int64</td>\n",
       "    </tr>\n",
       "    <tr>\n",
       "      <th>TDF (kg)</th>\n",
       "      <td>float64</td>\n",
       "    </tr>\n",
       "    <tr>\n",
       "      <th>ABW (gm)</th>\n",
       "      <td>float64</td>\n",
       "    </tr>\n",
       "    <tr>\n",
       "      <th>Water temperature (˚C)</th>\n",
       "      <td>float64</td>\n",
       "    </tr>\n",
       "    <tr>\n",
       "      <th>PH change</th>\n",
       "      <td>float64</td>\n",
       "    </tr>\n",
       "    <tr>\n",
       "      <th>Ammonia (ppm)</th>\n",
       "      <td>float64</td>\n",
       "    </tr>\n",
       "    <tr>\n",
       "      <th>Water exchange (cm)</th>\n",
       "      <td>int64</td>\n",
       "    </tr>\n",
       "  </tbody>\n",
       "</table>\n",
       "</div>"
      ],
      "text/plain": [
       "                       DataType\n",
       "DOC                       int64\n",
       "Salinity (ppt)            int64\n",
       "SDR (cm)                  int64\n",
       "Water colour              int64\n",
       "Water level (cm)          int64\n",
       "TSS (ml/L)              float64\n",
       "Average PH              float64\n",
       "Average DO (ppm)        float64\n",
       "Running aerator (HP)      int64\n",
       "TDF (kg)                float64\n",
       "ABW (gm)                float64\n",
       "Water temperature (˚C)  float64\n",
       "PH change               float64\n",
       "Ammonia (ppm)           float64\n",
       "Water exchange (cm)       int64"
      ]
     },
     "execution_count": 3,
     "metadata": {},
     "output_type": "execute_result"
    }
   ],
   "source": [
    "data=pd.DataFrame(df.dtypes)\n",
    "data=data.rename(columns={0:'DataType'})\n",
    "data"
   ]
  },
  {
   "cell_type": "code",
   "execution_count": 4,
   "id": "81ea9674",
   "metadata": {},
   "outputs": [
    {
     "data": {
      "text/plain": [
       "DOC                       0\n",
       "Salinity (ppt)            0\n",
       "SDR (cm)                  0\n",
       "Water colour              0\n",
       "Water level (cm)          0\n",
       "TSS (ml/L)                0\n",
       "Average PH                0\n",
       "Average DO (ppm)          0\n",
       "Running aerator (HP)      0\n",
       "TDF (kg)                  0\n",
       "ABW (gm)                  0\n",
       "Water temperature (˚C)    0\n",
       "PH change                 0\n",
       "Ammonia (ppm)             0\n",
       "Water exchange (cm)       0\n",
       "dtype: int64"
      ]
     },
     "execution_count": 4,
     "metadata": {},
     "output_type": "execute_result"
    }
   ],
   "source": [
    "df.isnull().sum()"
   ]
  },
  {
   "cell_type": "code",
   "execution_count": 5,
   "id": "258d55ac",
   "metadata": {},
   "outputs": [
    {
     "data": {
      "text/html": [
       "<div>\n",
       "<style scoped>\n",
       "    .dataframe tbody tr th:only-of-type {\n",
       "        vertical-align: middle;\n",
       "    }\n",
       "\n",
       "    .dataframe tbody tr th {\n",
       "        vertical-align: top;\n",
       "    }\n",
       "\n",
       "    .dataframe thead th {\n",
       "        text-align: right;\n",
       "    }\n",
       "</style>\n",
       "<table border=\"1\" class=\"dataframe\">\n",
       "  <thead>\n",
       "    <tr style=\"text-align: right;\">\n",
       "      <th></th>\n",
       "      <th>DOC</th>\n",
       "      <th>Salinity (ppt)</th>\n",
       "      <th>Average PH</th>\n",
       "      <th>Running aerator (HP)</th>\n",
       "      <th>TDF (kg)</th>\n",
       "    </tr>\n",
       "  </thead>\n",
       "  <tbody>\n",
       "    <tr>\n",
       "      <th>0</th>\n",
       "      <td>1</td>\n",
       "      <td>16</td>\n",
       "      <td>8.25</td>\n",
       "      <td>56</td>\n",
       "      <td>1.7</td>\n",
       "    </tr>\n",
       "    <tr>\n",
       "      <th>1</th>\n",
       "      <td>2</td>\n",
       "      <td>16</td>\n",
       "      <td>8.25</td>\n",
       "      <td>31</td>\n",
       "      <td>2.4</td>\n",
       "    </tr>\n",
       "    <tr>\n",
       "      <th>2</th>\n",
       "      <td>3</td>\n",
       "      <td>16</td>\n",
       "      <td>8.05</td>\n",
       "      <td>29</td>\n",
       "      <td>3.4</td>\n",
       "    </tr>\n",
       "    <tr>\n",
       "      <th>3</th>\n",
       "      <td>4</td>\n",
       "      <td>16</td>\n",
       "      <td>8.00</td>\n",
       "      <td>44</td>\n",
       "      <td>4.2</td>\n",
       "    </tr>\n",
       "    <tr>\n",
       "      <th>4</th>\n",
       "      <td>5</td>\n",
       "      <td>16</td>\n",
       "      <td>8.00</td>\n",
       "      <td>57</td>\n",
       "      <td>5.0</td>\n",
       "    </tr>\n",
       "    <tr>\n",
       "      <th>...</th>\n",
       "      <td>...</td>\n",
       "      <td>...</td>\n",
       "      <td>...</td>\n",
       "      <td>...</td>\n",
       "      <td>...</td>\n",
       "    </tr>\n",
       "    <tr>\n",
       "      <th>395</th>\n",
       "      <td>96</td>\n",
       "      <td>22</td>\n",
       "      <td>7.70</td>\n",
       "      <td>934</td>\n",
       "      <td>460.0</td>\n",
       "    </tr>\n",
       "    <tr>\n",
       "      <th>396</th>\n",
       "      <td>97</td>\n",
       "      <td>23</td>\n",
       "      <td>7.75</td>\n",
       "      <td>1128</td>\n",
       "      <td>400.0</td>\n",
       "    </tr>\n",
       "    <tr>\n",
       "      <th>397</th>\n",
       "      <td>98</td>\n",
       "      <td>23</td>\n",
       "      <td>7.75</td>\n",
       "      <td>922</td>\n",
       "      <td>410.0</td>\n",
       "    </tr>\n",
       "    <tr>\n",
       "      <th>398</th>\n",
       "      <td>99</td>\n",
       "      <td>23</td>\n",
       "      <td>7.70</td>\n",
       "      <td>960</td>\n",
       "      <td>400.0</td>\n",
       "    </tr>\n",
       "    <tr>\n",
       "      <th>399</th>\n",
       "      <td>100</td>\n",
       "      <td>23</td>\n",
       "      <td>7.70</td>\n",
       "      <td>126</td>\n",
       "      <td>400.0</td>\n",
       "    </tr>\n",
       "  </tbody>\n",
       "</table>\n",
       "<p>400 rows × 5 columns</p>\n",
       "</div>"
      ],
      "text/plain": [
       "     DOC  Salinity (ppt)  Average PH  Running aerator (HP)  TDF (kg)\n",
       "0      1              16        8.25                    56       1.7\n",
       "1      2              16        8.25                    31       2.4\n",
       "2      3              16        8.05                    29       3.4\n",
       "3      4              16        8.00                    44       4.2\n",
       "4      5              16        8.00                    57       5.0\n",
       "..   ...             ...         ...                   ...       ...\n",
       "395   96              22        7.70                   934     460.0\n",
       "396   97              23        7.75                  1128     400.0\n",
       "397   98              23        7.75                   922     410.0\n",
       "398   99              23        7.70                   960     400.0\n",
       "399  100              23        7.70                   126     400.0\n",
       "\n",
       "[400 rows x 5 columns]"
      ]
     },
     "execution_count": 5,
     "metadata": {},
     "output_type": "execute_result"
    }
   ],
   "source": [
    "x=df[['DOC', 'Salinity (ppt)',  'Average PH', 'Running aerator (HP)', 'TDF (kg)' ]]\n",
    "x"
   ]
  },
  {
   "cell_type": "code",
   "execution_count": 6,
   "id": "97fe5392",
   "metadata": {},
   "outputs": [
    {
     "data": {
      "text/plain": [
       "0       0.008\n",
       "1       0.023\n",
       "2       0.037\n",
       "3       0.052\n",
       "4       0.066\n",
       "        ...  \n",
       "395    19.100\n",
       "396    19.200\n",
       "397    19.300\n",
       "398    19.400\n",
       "399    19.500\n",
       "Name: ABW (gm), Length: 400, dtype: float64"
      ]
     },
     "execution_count": 6,
     "metadata": {},
     "output_type": "execute_result"
    }
   ],
   "source": [
    "y=df['ABW (gm)']\n",
    "y"
   ]
  },
  {
   "cell_type": "code",
   "execution_count": 7,
   "id": "95108215",
   "metadata": {},
   "outputs": [],
   "source": [
    "from sklearn.preprocessing import StandardScaler\n",
    "rs=StandardScaler()\n",
    "x=rs.fit_transform(x)"
   ]
  },
  {
   "cell_type": "code",
   "execution_count": 8,
   "id": "07feb300",
   "metadata": {},
   "outputs": [],
   "source": [
    "from sklearn.model_selection import train_test_split\n",
    "from sklearn.linear_model import LinearRegression"
   ]
  },
  {
   "cell_type": "code",
   "execution_count": 9,
   "id": "e8375354",
   "metadata": {},
   "outputs": [],
   "source": [
    "x_train, x_test, y_train, y_test = train_test_split(x, y, test_size=0.2, random_state=42)"
   ]
  },
  {
   "cell_type": "code",
   "execution_count": 10,
   "id": "73a94a8e",
   "metadata": {},
   "outputs": [
    {
     "data": {
      "text/plain": [
       "LinearRegression()"
      ]
     },
     "execution_count": 10,
     "metadata": {},
     "output_type": "execute_result"
    }
   ],
   "source": [
    "linreg=LinearRegression()\n",
    "linreg.fit(x_train, y_train)"
   ]
  },
  {
   "cell_type": "code",
   "execution_count": 11,
   "id": "bfd9beb2",
   "metadata": {},
   "outputs": [],
   "source": [
    "y_pred=linreg.predict(x_test) "
   ]
  },
  {
   "cell_type": "code",
   "execution_count": 12,
   "id": "74f4b0bf",
   "metadata": {},
   "outputs": [
    {
     "data": {
      "text/plain": [
       "0.9591032578225562"
      ]
     },
     "execution_count": 12,
     "metadata": {},
     "output_type": "execute_result"
    }
   ],
   "source": [
    "linreg.score(x_test, y_test)"
   ]
  },
  {
   "cell_type": "code",
   "execution_count": 13,
   "id": "1e5a5e33",
   "metadata": {},
   "outputs": [
    {
     "data": {
      "text/plain": [
       "0.9646572203001329"
      ]
     },
     "execution_count": 13,
     "metadata": {},
     "output_type": "execute_result"
    }
   ],
   "source": [
    "linreg.score(x_train,y_train)"
   ]
  },
  {
   "cell_type": "code",
   "execution_count": 14,
   "id": "db87e094",
   "metadata": {},
   "outputs": [
    {
     "name": "stdout",
     "output_type": "stream",
     "text": [
      "1.27887528221645\n",
      "2.2933502722225643\n",
      "1.5143811515673866\n",
      "0.9591032578225562\n",
      "6.751906052305975\n"
     ]
    }
   ],
   "source": [
    "from sklearn.metrics import r2_score, mean_absolute_percentage_error\n",
    "from sklearn.metrics import mean_squared_error\n",
    "from math import sqrt\n",
    "from sklearn.metrics import mean_absolute_error\n",
    "print(mean_absolute_error(y_test, y_pred))\n",
    "print(mean_squared_error(y_test, y_pred))\n",
    "print(np.sqrt(mean_squared_error(y_test, y_pred)))\n",
    "print(r2_score(y_test, y_pred))\n",
    "print(mean_absolute_percentage_error(y_test, y_pred))"
   ]
  },
  {
   "cell_type": "code",
   "execution_count": 15,
   "id": "1aa481aa",
   "metadata": {},
   "outputs": [],
   "source": [
    "from sklearn.tree import DecisionTreeRegressor"
   ]
  },
  {
   "cell_type": "code",
   "execution_count": 16,
   "id": "5f768ef4",
   "metadata": {},
   "outputs": [
    {
     "data": {
      "text/plain": [
       "DecisionTreeRegressor(random_state=42)"
      ]
     },
     "execution_count": 16,
     "metadata": {},
     "output_type": "execute_result"
    }
   ],
   "source": [
    "treereg=DecisionTreeRegressor(splitter='best',\n",
    "    max_depth=None,\n",
    "    min_samples_split=2,\n",
    "    min_samples_leaf=1, random_state=42)\n",
    "treereg.fit(x_train, y_train)"
   ]
  },
  {
   "cell_type": "code",
   "execution_count": 17,
   "id": "894fae98",
   "metadata": {},
   "outputs": [],
   "source": [
    "ytree_pred=treereg.predict(x_test)"
   ]
  },
  {
   "cell_type": "code",
   "execution_count": 18,
   "id": "861a8809",
   "metadata": {},
   "outputs": [
    {
     "data": {
      "text/plain": [
       "1.0"
      ]
     },
     "execution_count": 18,
     "metadata": {},
     "output_type": "execute_result"
    }
   ],
   "source": [
    "treereg.score(x_train, y_train)"
   ]
  },
  {
   "cell_type": "code",
   "execution_count": 19,
   "id": "02343816",
   "metadata": {},
   "outputs": [
    {
     "data": {
      "text/plain": [
       "0.9909559683430585"
      ]
     },
     "execution_count": 19,
     "metadata": {},
     "output_type": "execute_result"
    }
   ],
   "source": [
    "treereg.score(x_test,y_test)"
   ]
  },
  {
   "cell_type": "code",
   "execution_count": 20,
   "id": "7794ea25",
   "metadata": {},
   "outputs": [
    {
     "name": "stdout",
     "output_type": "stream",
     "text": [
      "0.41739999999999994\n",
      "0.5071585499999999\n",
      "0.7121506511967814\n",
      "0.9909559683430585\n",
      "0.07031710430669776\n"
     ]
    }
   ],
   "source": [
    "print(mean_absolute_error(y_test, ytree_pred))\n",
    "print(mean_squared_error(y_test, ytree_pred))\n",
    "print(np.sqrt(mean_squared_error(y_test, ytree_pred)))\n",
    "print(r2_score(y_test, ytree_pred))\n",
    "print(mean_absolute_percentage_error(y_test, ytree_pred))"
   ]
  },
  {
   "cell_type": "code",
   "execution_count": 21,
   "id": "5a5ea11f",
   "metadata": {},
   "outputs": [],
   "source": [
    "from sklearn.ensemble import AdaBoostRegressor"
   ]
  },
  {
   "cell_type": "code",
   "execution_count": 22,
   "id": "73b14373",
   "metadata": {},
   "outputs": [
    {
     "data": {
      "text/plain": [
       "AdaBoostRegressor(random_state=42)"
      ]
     },
     "execution_count": 22,
     "metadata": {},
     "output_type": "execute_result"
    }
   ],
   "source": [
    "adareg=AdaBoostRegressor(random_state=42, n_estimators=50)\n",
    "adareg.fit(x_train, y_train)"
   ]
  },
  {
   "cell_type": "code",
   "execution_count": 23,
   "id": "87f81172",
   "metadata": {},
   "outputs": [],
   "source": [
    "yada_pred=adareg.predict(x_test)"
   ]
  },
  {
   "cell_type": "code",
   "execution_count": 24,
   "id": "4f859252",
   "metadata": {},
   "outputs": [
    {
     "data": {
      "text/plain": [
       "0.9902068670968048"
      ]
     },
     "execution_count": 24,
     "metadata": {},
     "output_type": "execute_result"
    }
   ],
   "source": [
    "adareg.score(x_train, y_train)"
   ]
  },
  {
   "cell_type": "code",
   "execution_count": 25,
   "id": "5446736d",
   "metadata": {},
   "outputs": [
    {
     "data": {
      "text/plain": [
       "0.9888921980983434"
      ]
     },
     "execution_count": 25,
     "metadata": {},
     "output_type": "execute_result"
    }
   ],
   "source": [
    "adareg.score(x_test, y_test)"
   ]
  },
  {
   "cell_type": "code",
   "execution_count": 27,
   "id": "9111cf5a",
   "metadata": {},
   "outputs": [
    {
     "name": "stdout",
     "output_type": "stream",
     "text": [
      "0.6517656034620879\n",
      "0.622887769505721\n",
      "0.7892323925851757\n",
      "0.9888921980983434\n",
      "2.2735652340047645\n"
     ]
    }
   ],
   "source": [
    "print(mean_absolute_error(y_test, yada_pred))\n",
    "print(mean_squared_error(y_test, yada_pred))\n",
    "print(np.sqrt(mean_squared_error(y_test, yada_pred)))\n",
    "print(r2_score(y_test, yada_pred))\n",
    "print(mean_absolute_percentage_error(y_test, yada_pred))"
   ]
  },
  {
   "cell_type": "code",
   "execution_count": 28,
   "id": "3f58ec1c",
   "metadata": {},
   "outputs": [],
   "source": [
    "from sklearn.ensemble import GradientBoostingRegressor"
   ]
  },
  {
   "cell_type": "code",
   "execution_count": 29,
   "id": "46ff2610",
   "metadata": {},
   "outputs": [
    {
     "data": {
      "text/plain": [
       "GradientBoostingRegressor(random_state=42)"
      ]
     },
     "execution_count": 29,
     "metadata": {},
     "output_type": "execute_result"
    }
   ],
   "source": [
    "gbrreg=GradientBoostingRegressor(n_estimators=100, learning_rate=0.1, max_depth=3, random_state=42, loss='ls',min_samples_leaf=1)\n",
    "gbrreg.fit(x_train, y_train)"
   ]
  },
  {
   "cell_type": "code",
   "execution_count": 30,
   "id": "ce4289ff",
   "metadata": {},
   "outputs": [],
   "source": [
    "ygbr_pred=gbrreg.predict(x_test)"
   ]
  },
  {
   "cell_type": "code",
   "execution_count": 31,
   "id": "41b066c9",
   "metadata": {},
   "outputs": [
    {
     "data": {
      "text/plain": [
       "0.998848824446235"
      ]
     },
     "execution_count": 31,
     "metadata": {},
     "output_type": "execute_result"
    }
   ],
   "source": [
    "gbrreg.score(x_train, y_train)"
   ]
  },
  {
   "cell_type": "code",
   "execution_count": 32,
   "id": "ed3a36f6",
   "metadata": {},
   "outputs": [
    {
     "data": {
      "text/plain": [
       "0.9939572889680883"
      ]
     },
     "execution_count": 32,
     "metadata": {},
     "output_type": "execute_result"
    }
   ],
   "source": [
    "gbrreg.score(x_test, y_test)"
   ]
  },
  {
   "cell_type": "code",
   "execution_count": 33,
   "id": "7f5b6bb1",
   "metadata": {},
   "outputs": [
    {
     "name": "stdout",
     "output_type": "stream",
     "text": [
      "0.38698383300205275\n",
      "0.33885469238281274\n",
      "0.5821122678511532\n",
      "0.9939572889680883\n",
      "0.19093697042255867\n"
     ]
    }
   ],
   "source": [
    "print(mean_absolute_error(y_test, ygbr_pred))\n",
    "print(mean_squared_error(y_test, ygbr_pred))\n",
    "print(np.sqrt(mean_squared_error(y_test, ygbr_pred)))\n",
    "print(r2_score(y_test, ygbr_pred))\n",
    "print(mean_absolute_percentage_error(y_test, ygbr_pred))"
   ]
  },
  {
   "cell_type": "code",
   "execution_count": 34,
   "id": "4fcfe8e9",
   "metadata": {},
   "outputs": [],
   "source": [
    "from sklearn.ensemble import RandomForestRegressor"
   ]
  },
  {
   "cell_type": "code",
   "execution_count": 35,
   "id": "67cdb83c",
   "metadata": {},
   "outputs": [
    {
     "data": {
      "text/plain": [
       "RandomForestRegressor(random_state=42)"
      ]
     },
     "execution_count": 35,
     "metadata": {},
     "output_type": "execute_result"
    }
   ],
   "source": [
    "rf=RandomForestRegressor(n_estimators=100, min_samples_split=2, min_samples_leaf=1, max_features='auto', max_depth=None,random_state=42)\n",
    "rf.fit(x_train, y_train)"
   ]
  },
  {
   "cell_type": "code",
   "execution_count": 36,
   "id": "723ef84f",
   "metadata": {},
   "outputs": [],
   "source": [
    "yrf_pred=rf.predict(x_test)"
   ]
  },
  {
   "cell_type": "code",
   "execution_count": 37,
   "id": "bbf273df",
   "metadata": {},
   "outputs": [
    {
     "data": {
      "text/plain": [
       "0.9993976755902885"
      ]
     },
     "execution_count": 37,
     "metadata": {},
     "output_type": "execute_result"
    }
   ],
   "source": [
    "rf.score(x_train, y_train)"
   ]
  },
  {
   "cell_type": "code",
   "execution_count": 38,
   "id": "1844e3a0",
   "metadata": {},
   "outputs": [
    {
     "data": {
      "text/plain": [
       "0.994774475588492"
      ]
     },
     "execution_count": 38,
     "metadata": {},
     "output_type": "execute_result"
    }
   ],
   "source": [
    "rf.score(x_test, y_test)"
   ]
  },
  {
   "cell_type": "code",
   "execution_count": 39,
   "id": "8ee1ab61",
   "metadata": {},
   "outputs": [
    {
     "name": "stdout",
     "output_type": "stream",
     "text": [
      "0.3293753750000016\n",
      "0.2930296447487512\n",
      "0.5413221266018517\n",
      "0.994774475588492\n",
      "0.062416406762320166\n"
     ]
    }
   ],
   "source": [
    "print(mean_absolute_error(y_test, yrf_pred))\n",
    "print(mean_squared_error(y_test, yrf_pred))\n",
    "print(np.sqrt(mean_squared_error(y_test, yrf_pred)))\n",
    "print(r2_score(y_test, yrf_pred))\n",
    "print(mean_absolute_percentage_error(y_test, yrf_pred))"
   ]
  }
 ],
 "metadata": {
  "kernelspec": {
   "display_name": "Python 3 (ipykernel)",
   "language": "python",
   "name": "python3"
  },
  "language_info": {
   "codemirror_mode": {
    "name": "ipython",
    "version": 3
   },
   "file_extension": ".py",
   "mimetype": "text/x-python",
   "name": "python",
   "nbconvert_exporter": "python",
   "pygments_lexer": "ipython3",
   "version": "3.9.7"
  }
 },
 "nbformat": 4,
 "nbformat_minor": 5
}
