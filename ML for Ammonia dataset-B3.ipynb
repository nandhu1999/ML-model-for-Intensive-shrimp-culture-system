{
 "cells": [
  {
   "cell_type": "markdown",
   "id": "7b4dbf4f",
   "metadata": {},
   "source": [
    "## Ammonia concentration (ppm) prediction model development using Dataset-B3"
   ]
  },
  {
   "cell_type": "code",
   "execution_count": 1,
   "id": "8982f678",
   "metadata": {},
   "outputs": [],
   "source": [
    "import pandas as pd\n",
    "import numpy as np\n",
    "import seaborn as sns\n",
    "import matplotlib.pyplot as plt\n",
    "%matplotlib inline"
   ]
  },
  {
   "cell_type": "code",
   "execution_count": 2,
   "id": "d284a247",
   "metadata": {},
   "outputs": [
    {
     "data": {
      "text/html": [
       "<div>\n",
       "<style scoped>\n",
       "    .dataframe tbody tr th:only-of-type {\n",
       "        vertical-align: middle;\n",
       "    }\n",
       "\n",
       "    .dataframe tbody tr th {\n",
       "        vertical-align: top;\n",
       "    }\n",
       "\n",
       "    .dataframe thead th {\n",
       "        text-align: right;\n",
       "    }\n",
       "</style>\n",
       "<table border=\"1\" class=\"dataframe\">\n",
       "  <thead>\n",
       "    <tr style=\"text-align: right;\">\n",
       "      <th></th>\n",
       "      <th>Unnamed: 0</th>\n",
       "      <th>DOC</th>\n",
       "      <th>Salinity (ppt)</th>\n",
       "      <th>SDR (cm)</th>\n",
       "      <th>Water colour</th>\n",
       "      <th>Water level (cm)</th>\n",
       "      <th>TSS (ml/L)</th>\n",
       "      <th>Average PH</th>\n",
       "      <th>Average DO (ppm)</th>\n",
       "      <th>Running aerator (HP)</th>\n",
       "      <th>TDF (kg)</th>\n",
       "      <th>ABW (gm)</th>\n",
       "      <th>Water temperature (˚C)</th>\n",
       "      <th>PH change</th>\n",
       "      <th>Ammonia (ppm)</th>\n",
       "      <th>Water exchange (cm)</th>\n",
       "    </tr>\n",
       "  </thead>\n",
       "  <tbody>\n",
       "    <tr>\n",
       "      <th>0</th>\n",
       "      <td>0</td>\n",
       "      <td>1</td>\n",
       "      <td>16</td>\n",
       "      <td>50</td>\n",
       "      <td>4</td>\n",
       "      <td>120</td>\n",
       "      <td>1.0</td>\n",
       "      <td>8.25</td>\n",
       "      <td>5.783333</td>\n",
       "      <td>56</td>\n",
       "      <td>1.7</td>\n",
       "      <td>0.008000</td>\n",
       "      <td>29.10</td>\n",
       "      <td>0.3</td>\n",
       "      <td>0.026</td>\n",
       "      <td>0</td>\n",
       "    </tr>\n",
       "    <tr>\n",
       "      <th>1</th>\n",
       "      <td>1</td>\n",
       "      <td>2</td>\n",
       "      <td>16</td>\n",
       "      <td>48</td>\n",
       "      <td>5</td>\n",
       "      <td>120</td>\n",
       "      <td>2.0</td>\n",
       "      <td>8.25</td>\n",
       "      <td>5.600000</td>\n",
       "      <td>31</td>\n",
       "      <td>2.4</td>\n",
       "      <td>0.022571</td>\n",
       "      <td>28.65</td>\n",
       "      <td>0.1</td>\n",
       "      <td>0.028</td>\n",
       "      <td>0</td>\n",
       "    </tr>\n",
       "    <tr>\n",
       "      <th>2</th>\n",
       "      <td>2</td>\n",
       "      <td>3</td>\n",
       "      <td>16</td>\n",
       "      <td>55</td>\n",
       "      <td>4</td>\n",
       "      <td>132</td>\n",
       "      <td>0.5</td>\n",
       "      <td>8.05</td>\n",
       "      <td>5.333333</td>\n",
       "      <td>29</td>\n",
       "      <td>3.4</td>\n",
       "      <td>0.037143</td>\n",
       "      <td>28.10</td>\n",
       "      <td>0.1</td>\n",
       "      <td>0.023</td>\n",
       "      <td>5</td>\n",
       "    </tr>\n",
       "    <tr>\n",
       "      <th>3</th>\n",
       "      <td>3</td>\n",
       "      <td>4</td>\n",
       "      <td>16</td>\n",
       "      <td>60</td>\n",
       "      <td>4</td>\n",
       "      <td>128</td>\n",
       "      <td>0.5</td>\n",
       "      <td>8.00</td>\n",
       "      <td>5.466667</td>\n",
       "      <td>44</td>\n",
       "      <td>4.2</td>\n",
       "      <td>0.051714</td>\n",
       "      <td>28.40</td>\n",
       "      <td>0.0</td>\n",
       "      <td>0.018</td>\n",
       "      <td>0</td>\n",
       "    </tr>\n",
       "    <tr>\n",
       "      <th>4</th>\n",
       "      <td>4</td>\n",
       "      <td>5</td>\n",
       "      <td>16</td>\n",
       "      <td>45</td>\n",
       "      <td>4</td>\n",
       "      <td>126</td>\n",
       "      <td>0.5</td>\n",
       "      <td>8.00</td>\n",
       "      <td>5.433333</td>\n",
       "      <td>57</td>\n",
       "      <td>5.0</td>\n",
       "      <td>0.066286</td>\n",
       "      <td>28.15</td>\n",
       "      <td>0.2</td>\n",
       "      <td>0.030</td>\n",
       "      <td>0</td>\n",
       "    </tr>\n",
       "  </tbody>\n",
       "</table>\n",
       "</div>"
      ],
      "text/plain": [
       "   Unnamed: 0  DOC  Salinity (ppt)  SDR (cm)  Water colour  Water level (cm)  \\\n",
       "0           0    1              16        50             4               120   \n",
       "1           1    2              16        48             5               120   \n",
       "2           2    3              16        55             4               132   \n",
       "3           3    4              16        60             4               128   \n",
       "4           4    5              16        45             4               126   \n",
       "\n",
       "   TSS (ml/L)  Average PH  Average DO (ppm)  Running aerator (HP)  TDF (kg)  \\\n",
       "0         1.0        8.25          5.783333                    56       1.7   \n",
       "1         2.0        8.25          5.600000                    31       2.4   \n",
       "2         0.5        8.05          5.333333                    29       3.4   \n",
       "3         0.5        8.00          5.466667                    44       4.2   \n",
       "4         0.5        8.00          5.433333                    57       5.0   \n",
       "\n",
       "   ABW (gm)  Water temperature (˚C)  PH change  Ammonia (ppm)  \\\n",
       "0  0.008000                   29.10        0.3          0.026   \n",
       "1  0.022571                   28.65        0.1          0.028   \n",
       "2  0.037143                   28.10        0.1          0.023   \n",
       "3  0.051714                   28.40        0.0          0.018   \n",
       "4  0.066286                   28.15        0.2          0.030   \n",
       "\n",
       "   Water exchange (cm)  \n",
       "0                    0  \n",
       "1                    0  \n",
       "2                    5  \n",
       "3                    0  \n",
       "4                    0  "
      ]
     },
     "execution_count": 2,
     "metadata": {},
     "output_type": "execute_result"
    }
   ],
   "source": [
    "df=pd.read_excel('ammonia.xlsx')\n",
    "df.head()"
   ]
  },
  {
   "cell_type": "code",
   "execution_count": 3,
   "id": "8d6c775a",
   "metadata": {},
   "outputs": [
    {
     "data": {
      "text/html": [
       "<div>\n",
       "<style scoped>\n",
       "    .dataframe tbody tr th:only-of-type {\n",
       "        vertical-align: middle;\n",
       "    }\n",
       "\n",
       "    .dataframe tbody tr th {\n",
       "        vertical-align: top;\n",
       "    }\n",
       "\n",
       "    .dataframe thead th {\n",
       "        text-align: right;\n",
       "    }\n",
       "</style>\n",
       "<table border=\"1\" class=\"dataframe\">\n",
       "  <thead>\n",
       "    <tr style=\"text-align: right;\">\n",
       "      <th></th>\n",
       "      <th>DataType</th>\n",
       "    </tr>\n",
       "  </thead>\n",
       "  <tbody>\n",
       "    <tr>\n",
       "      <th>Unnamed: 0</th>\n",
       "      <td>int64</td>\n",
       "    </tr>\n",
       "    <tr>\n",
       "      <th>DOC</th>\n",
       "      <td>int64</td>\n",
       "    </tr>\n",
       "    <tr>\n",
       "      <th>Salinity (ppt)</th>\n",
       "      <td>int64</td>\n",
       "    </tr>\n",
       "    <tr>\n",
       "      <th>SDR (cm)</th>\n",
       "      <td>int64</td>\n",
       "    </tr>\n",
       "    <tr>\n",
       "      <th>Water colour</th>\n",
       "      <td>int64</td>\n",
       "    </tr>\n",
       "    <tr>\n",
       "      <th>Water level (cm)</th>\n",
       "      <td>int64</td>\n",
       "    </tr>\n",
       "    <tr>\n",
       "      <th>TSS (ml/L)</th>\n",
       "      <td>float64</td>\n",
       "    </tr>\n",
       "    <tr>\n",
       "      <th>Average PH</th>\n",
       "      <td>float64</td>\n",
       "    </tr>\n",
       "    <tr>\n",
       "      <th>Average DO (ppm)</th>\n",
       "      <td>float64</td>\n",
       "    </tr>\n",
       "    <tr>\n",
       "      <th>Running aerator (HP)</th>\n",
       "      <td>int64</td>\n",
       "    </tr>\n",
       "    <tr>\n",
       "      <th>TDF (kg)</th>\n",
       "      <td>float64</td>\n",
       "    </tr>\n",
       "    <tr>\n",
       "      <th>ABW (gm)</th>\n",
       "      <td>float64</td>\n",
       "    </tr>\n",
       "    <tr>\n",
       "      <th>Water temperature (˚C)</th>\n",
       "      <td>float64</td>\n",
       "    </tr>\n",
       "    <tr>\n",
       "      <th>PH change</th>\n",
       "      <td>float64</td>\n",
       "    </tr>\n",
       "    <tr>\n",
       "      <th>Ammonia (ppm)</th>\n",
       "      <td>float64</td>\n",
       "    </tr>\n",
       "    <tr>\n",
       "      <th>Water exchange (cm)</th>\n",
       "      <td>int64</td>\n",
       "    </tr>\n",
       "  </tbody>\n",
       "</table>\n",
       "</div>"
      ],
      "text/plain": [
       "                       DataType\n",
       "Unnamed: 0                int64\n",
       "DOC                       int64\n",
       "Salinity (ppt)            int64\n",
       "SDR (cm)                  int64\n",
       "Water colour              int64\n",
       "Water level (cm)          int64\n",
       "TSS (ml/L)              float64\n",
       "Average PH              float64\n",
       "Average DO (ppm)        float64\n",
       "Running aerator (HP)      int64\n",
       "TDF (kg)                float64\n",
       "ABW (gm)                float64\n",
       "Water temperature (˚C)  float64\n",
       "PH change               float64\n",
       "Ammonia (ppm)           float64\n",
       "Water exchange (cm)       int64"
      ]
     },
     "execution_count": 3,
     "metadata": {},
     "output_type": "execute_result"
    }
   ],
   "source": [
    "data=pd.DataFrame(df.dtypes)\n",
    "data=data.rename(columns={0:'DataType'})\n",
    "data"
   ]
  },
  {
   "cell_type": "code",
   "execution_count": 4,
   "id": "81ea9674",
   "metadata": {},
   "outputs": [
    {
     "data": {
      "text/plain": [
       "Unnamed: 0                0\n",
       "DOC                       0\n",
       "Salinity (ppt)            0\n",
       "SDR (cm)                  0\n",
       "Water colour              0\n",
       "Water level (cm)          0\n",
       "TSS (ml/L)                0\n",
       "Average PH                0\n",
       "Average DO (ppm)          0\n",
       "Running aerator (HP)      0\n",
       "TDF (kg)                  0\n",
       "ABW (gm)                  0\n",
       "Water temperature (˚C)    0\n",
       "PH change                 0\n",
       "Ammonia (ppm)             0\n",
       "Water exchange (cm)       0\n",
       "dtype: int64"
      ]
     },
     "execution_count": 4,
     "metadata": {},
     "output_type": "execute_result"
    }
   ],
   "source": [
    "df.isnull().sum()"
   ]
  },
  {
   "cell_type": "code",
   "execution_count": 5,
   "id": "54554899",
   "metadata": {},
   "outputs": [
    {
     "data": {
      "text/html": [
       "<div>\n",
       "<style scoped>\n",
       "    .dataframe tbody tr th:only-of-type {\n",
       "        vertical-align: middle;\n",
       "    }\n",
       "\n",
       "    .dataframe tbody tr th {\n",
       "        vertical-align: top;\n",
       "    }\n",
       "\n",
       "    .dataframe thead th {\n",
       "        text-align: right;\n",
       "    }\n",
       "</style>\n",
       "<table border=\"1\" class=\"dataframe\">\n",
       "  <thead>\n",
       "    <tr style=\"text-align: right;\">\n",
       "      <th></th>\n",
       "      <th>DOC</th>\n",
       "      <th>Salinity (ppt)</th>\n",
       "      <th>ABW (gm)</th>\n",
       "      <th>Running aerator (HP)</th>\n",
       "      <th>TDF (kg)</th>\n",
       "    </tr>\n",
       "  </thead>\n",
       "  <tbody>\n",
       "    <tr>\n",
       "      <th>0</th>\n",
       "      <td>1</td>\n",
       "      <td>16</td>\n",
       "      <td>0.008000</td>\n",
       "      <td>56</td>\n",
       "      <td>1.7</td>\n",
       "    </tr>\n",
       "    <tr>\n",
       "      <th>1</th>\n",
       "      <td>2</td>\n",
       "      <td>16</td>\n",
       "      <td>0.022571</td>\n",
       "      <td>31</td>\n",
       "      <td>2.4</td>\n",
       "    </tr>\n",
       "    <tr>\n",
       "      <th>2</th>\n",
       "      <td>3</td>\n",
       "      <td>16</td>\n",
       "      <td>0.037143</td>\n",
       "      <td>29</td>\n",
       "      <td>3.4</td>\n",
       "    </tr>\n",
       "    <tr>\n",
       "      <th>3</th>\n",
       "      <td>4</td>\n",
       "      <td>16</td>\n",
       "      <td>0.051714</td>\n",
       "      <td>44</td>\n",
       "      <td>4.2</td>\n",
       "    </tr>\n",
       "    <tr>\n",
       "      <th>4</th>\n",
       "      <td>5</td>\n",
       "      <td>16</td>\n",
       "      <td>0.066286</td>\n",
       "      <td>57</td>\n",
       "      <td>5.0</td>\n",
       "    </tr>\n",
       "    <tr>\n",
       "      <th>...</th>\n",
       "      <td>...</td>\n",
       "      <td>...</td>\n",
       "      <td>...</td>\n",
       "      <td>...</td>\n",
       "      <td>...</td>\n",
       "    </tr>\n",
       "    <tr>\n",
       "      <th>395</th>\n",
       "      <td>96</td>\n",
       "      <td>22</td>\n",
       "      <td>19.100000</td>\n",
       "      <td>934</td>\n",
       "      <td>460.0</td>\n",
       "    </tr>\n",
       "    <tr>\n",
       "      <th>396</th>\n",
       "      <td>97</td>\n",
       "      <td>23</td>\n",
       "      <td>19.200000</td>\n",
       "      <td>1128</td>\n",
       "      <td>400.0</td>\n",
       "    </tr>\n",
       "    <tr>\n",
       "      <th>397</th>\n",
       "      <td>98</td>\n",
       "      <td>23</td>\n",
       "      <td>19.300000</td>\n",
       "      <td>922</td>\n",
       "      <td>410.0</td>\n",
       "    </tr>\n",
       "    <tr>\n",
       "      <th>398</th>\n",
       "      <td>99</td>\n",
       "      <td>23</td>\n",
       "      <td>19.400000</td>\n",
       "      <td>960</td>\n",
       "      <td>400.0</td>\n",
       "    </tr>\n",
       "    <tr>\n",
       "      <th>399</th>\n",
       "      <td>100</td>\n",
       "      <td>23</td>\n",
       "      <td>19.500000</td>\n",
       "      <td>126</td>\n",
       "      <td>400.0</td>\n",
       "    </tr>\n",
       "  </tbody>\n",
       "</table>\n",
       "<p>400 rows × 5 columns</p>\n",
       "</div>"
      ],
      "text/plain": [
       "     DOC  Salinity (ppt)   ABW (gm)  Running aerator (HP)  TDF (kg)\n",
       "0      1              16   0.008000                    56       1.7\n",
       "1      2              16   0.022571                    31       2.4\n",
       "2      3              16   0.037143                    29       3.4\n",
       "3      4              16   0.051714                    44       4.2\n",
       "4      5              16   0.066286                    57       5.0\n",
       "..   ...             ...        ...                   ...       ...\n",
       "395   96              22  19.100000                   934     460.0\n",
       "396   97              23  19.200000                  1128     400.0\n",
       "397   98              23  19.300000                   922     410.0\n",
       "398   99              23  19.400000                   960     400.0\n",
       "399  100              23  19.500000                   126     400.0\n",
       "\n",
       "[400 rows x 5 columns]"
      ]
     },
     "execution_count": 5,
     "metadata": {},
     "output_type": "execute_result"
    }
   ],
   "source": [
    "x=df[['DOC', 'Salinity (ppt)',  'ABW (gm)', 'Running aerator (HP)', 'TDF (kg)']]\n",
    "x"
   ]
  },
  {
   "cell_type": "code",
   "execution_count": 6,
   "id": "b70c9c25",
   "metadata": {},
   "outputs": [
    {
     "data": {
      "text/plain": [
       "0      0.026\n",
       "1      0.028\n",
       "2      0.023\n",
       "3      0.018\n",
       "4      0.030\n",
       "       ...  \n",
       "395    0.054\n",
       "396    0.049\n",
       "397    0.044\n",
       "398    0.039\n",
       "399    0.054\n",
       "Name: Ammonia (ppm), Length: 400, dtype: float64"
      ]
     },
     "execution_count": 6,
     "metadata": {},
     "output_type": "execute_result"
    }
   ],
   "source": [
    "y=df['Ammonia (ppm)']\n",
    "y"
   ]
  },
  {
   "cell_type": "code",
   "execution_count": 7,
   "id": "95108215",
   "metadata": {},
   "outputs": [],
   "source": [
    "from sklearn.preprocessing import StandardScaler\n",
    "rs=StandardScaler()\n",
    "x=rs.fit_transform(x)"
   ]
  },
  {
   "cell_type": "code",
   "execution_count": 8,
   "id": "07feb300",
   "metadata": {},
   "outputs": [],
   "source": [
    "from sklearn.model_selection import train_test_split\n",
    "from sklearn.linear_model import LinearRegression"
   ]
  },
  {
   "cell_type": "code",
   "execution_count": 9,
   "id": "e8375354",
   "metadata": {},
   "outputs": [],
   "source": [
    "x_train, x_test, y_train, y_test = train_test_split(x, y, test_size=0.2, random_state=42)"
   ]
  },
  {
   "cell_type": "code",
   "execution_count": 10,
   "id": "73a94a8e",
   "metadata": {},
   "outputs": [
    {
     "data": {
      "text/plain": [
       "LinearRegression()"
      ]
     },
     "execution_count": 10,
     "metadata": {},
     "output_type": "execute_result"
    }
   ],
   "source": [
    "linreg=LinearRegression()\n",
    "linreg.fit(x_train, y_train)"
   ]
  },
  {
   "cell_type": "code",
   "execution_count": 11,
   "id": "bfd9beb2",
   "metadata": {},
   "outputs": [],
   "source": [
    "y_pred=linreg.predict(x_test) "
   ]
  },
  {
   "cell_type": "code",
   "execution_count": 12,
   "id": "74f4b0bf",
   "metadata": {},
   "outputs": [
    {
     "data": {
      "text/plain": [
       "0.19447216591394856"
      ]
     },
     "execution_count": 12,
     "metadata": {},
     "output_type": "execute_result"
    }
   ],
   "source": [
    "linreg.score(x_test, y_test)"
   ]
  },
  {
   "cell_type": "code",
   "execution_count": 13,
   "id": "1e5a5e33",
   "metadata": {},
   "outputs": [
    {
     "data": {
      "text/plain": [
       "0.19689151805909733"
      ]
     },
     "execution_count": 13,
     "metadata": {},
     "output_type": "execute_result"
    }
   ],
   "source": [
    "linreg.score(x_train,y_train)"
   ]
  },
  {
   "cell_type": "code",
   "execution_count": 14,
   "id": "db87e094",
   "metadata": {},
   "outputs": [
    {
     "name": "stdout",
     "output_type": "stream",
     "text": [
      "0.05249066132066245\n",
      "0.006538332251802096\n",
      "0.08085995456220647\n",
      "0.19447216591394856\n",
      "0.8500645263250389\n"
     ]
    }
   ],
   "source": [
    "from sklearn.metrics import r2_score, mean_absolute_percentage_error\n",
    "from sklearn.metrics import mean_squared_error\n",
    "from math import sqrt\n",
    "from sklearn.metrics import mean_absolute_error\n",
    "print(mean_absolute_error(y_test, y_pred))\n",
    "print(mean_squared_error(y_test, y_pred))\n",
    "print(np.sqrt(mean_squared_error(y_test, y_pred)))\n",
    "print(r2_score(y_test, y_pred))\n",
    "print(mean_absolute_percentage_error(y_test, y_pred))"
   ]
  },
  {
   "cell_type": "code",
   "execution_count": 15,
   "id": "1aa481aa",
   "metadata": {},
   "outputs": [],
   "source": [
    "from sklearn.tree import DecisionTreeRegressor"
   ]
  },
  {
   "cell_type": "code",
   "execution_count": 16,
   "id": "5f768ef4",
   "metadata": {},
   "outputs": [
    {
     "data": {
      "text/plain": [
       "DecisionTreeRegressor(min_samples_leaf=2, random_state=3)"
      ]
     },
     "execution_count": 16,
     "metadata": {},
     "output_type": "execute_result"
    }
   ],
   "source": [
    "treereg=DecisionTreeRegressor(splitter='best',\n",
    "    max_depth=None,\n",
    "    min_samples_split=2,\n",
    "    min_samples_leaf=2, random_state=3)\n",
    "treereg.fit(x_train, y_train)"
   ]
  },
  {
   "cell_type": "code",
   "execution_count": 17,
   "id": "894fae98",
   "metadata": {},
   "outputs": [],
   "source": [
    "ytree_pred=treereg.predict(x_test)"
   ]
  },
  {
   "cell_type": "code",
   "execution_count": 18,
   "id": "861a8809",
   "metadata": {},
   "outputs": [
    {
     "data": {
      "text/plain": [
       "0.9307475745364076"
      ]
     },
     "execution_count": 18,
     "metadata": {},
     "output_type": "execute_result"
    }
   ],
   "source": [
    "treereg.score(x_train, y_train)"
   ]
  },
  {
   "cell_type": "code",
   "execution_count": 19,
   "id": "02343816",
   "metadata": {},
   "outputs": [
    {
     "data": {
      "text/plain": [
       "0.6484110771123692"
      ]
     },
     "execution_count": 19,
     "metadata": {},
     "output_type": "execute_result"
    }
   ],
   "source": [
    "treereg.score(x_test,y_test)"
   ]
  },
  {
   "cell_type": "code",
   "execution_count": 20,
   "id": "7794ea25",
   "metadata": {},
   "outputs": [
    {
     "name": "stdout",
     "output_type": "stream",
     "text": [
      "0.032464236111111114\n",
      "0.002853787413194445\n",
      "0.053420851857626205\n",
      "0.6484110771123692\n",
      "0.44781730756603116\n"
     ]
    }
   ],
   "source": [
    "from sklearn.metrics import r2_score\n",
    "from sklearn.metrics import mean_squared_error\n",
    "from math import sqrt\n",
    "from sklearn.metrics import mean_absolute_error\n",
    "print(mean_absolute_error(y_test, ytree_pred))\n",
    "print(mean_squared_error(y_test, ytree_pred))\n",
    "print(np.sqrt(mean_squared_error(y_test, ytree_pred)))\n",
    "print(r2_score(y_test, ytree_pred))\n",
    "print(mean_absolute_percentage_error(y_test, ytree_pred))"
   ]
  },
  {
   "cell_type": "code",
   "execution_count": 21,
   "id": "5a5ea11f",
   "metadata": {},
   "outputs": [],
   "source": [
    "from sklearn.ensemble import AdaBoostRegressor"
   ]
  },
  {
   "cell_type": "code",
   "execution_count": 22,
   "id": "73b14373",
   "metadata": {},
   "outputs": [
    {
     "data": {
      "text/plain": [
       "AdaBoostRegressor(n_estimators=180, random_state=3)"
      ]
     },
     "execution_count": 22,
     "metadata": {},
     "output_type": "execute_result"
    }
   ],
   "source": [
    "adareg=AdaBoostRegressor(random_state=3, n_estimators=180)\n",
    "adareg.fit(x_train, y_train)"
   ]
  },
  {
   "cell_type": "code",
   "execution_count": 23,
   "id": "87f81172",
   "metadata": {},
   "outputs": [],
   "source": [
    "yada_pred=adareg.predict(x_test)"
   ]
  },
  {
   "cell_type": "code",
   "execution_count": 24,
   "id": "4f859252",
   "metadata": {},
   "outputs": [
    {
     "data": {
      "text/plain": [
       "0.6241456597237014"
      ]
     },
     "execution_count": 24,
     "metadata": {},
     "output_type": "execute_result"
    }
   ],
   "source": [
    "adareg.score(x_train, y_train)"
   ]
  },
  {
   "cell_type": "code",
   "execution_count": 25,
   "id": "5446736d",
   "metadata": {},
   "outputs": [
    {
     "data": {
      "text/plain": [
       "0.46030489766781124"
      ]
     },
     "execution_count": 25,
     "metadata": {},
     "output_type": "execute_result"
    }
   ],
   "source": [
    "adareg.score(x_test, y_test)"
   ]
  },
  {
   "cell_type": "code",
   "execution_count": 26,
   "id": "9111cf5a",
   "metadata": {},
   "outputs": [
    {
     "name": "stdout",
     "output_type": "stream",
     "text": [
      "0.04289768660172438\n",
      "0.004380613238177967\n",
      "0.06618620126716722\n",
      "0.46030489766781124\n",
      "0.720260001499228\n"
     ]
    }
   ],
   "source": [
    "from sklearn.metrics import r2_score\n",
    "from sklearn.metrics import mean_squared_error\n",
    "from math import sqrt\n",
    "from sklearn.metrics import mean_absolute_error\n",
    "print(mean_absolute_error(y_test, yada_pred))\n",
    "print(mean_squared_error(y_test, yada_pred))\n",
    "print(np.sqrt(mean_squared_error(y_test, yada_pred)))\n",
    "print(r2_score(y_test, yada_pred))\n",
    "print(mean_absolute_percentage_error(y_test, yada_pred))"
   ]
  },
  {
   "cell_type": "code",
   "execution_count": 27,
   "id": "3f58ec1c",
   "metadata": {},
   "outputs": [],
   "source": [
    "from sklearn.ensemble import GradientBoostingRegressor"
   ]
  },
  {
   "cell_type": "code",
   "execution_count": 28,
   "id": "46ff2610",
   "metadata": {},
   "outputs": [
    {
     "data": {
      "text/plain": [
       "GradientBoostingRegressor(learning_rate=0.5, max_depth=10, min_samples_leaf=5,\n",
       "                          n_estimators=180, random_state=3)"
      ]
     },
     "execution_count": 28,
     "metadata": {},
     "output_type": "execute_result"
    }
   ],
   "source": [
    "gbrreg=GradientBoostingRegressor(n_estimators=180, learning_rate=0.5, max_depth=10, random_state=3, loss='ls',min_samples_leaf=5)\n",
    "gbrreg.fit(x_train, y_train)"
   ]
  },
  {
   "cell_type": "code",
   "execution_count": 29,
   "id": "ce4289ff",
   "metadata": {},
   "outputs": [],
   "source": [
    "ygbr_pred=gbrreg.predict(x_test)"
   ]
  },
  {
   "cell_type": "code",
   "execution_count": 30,
   "id": "41b066c9",
   "metadata": {},
   "outputs": [
    {
     "data": {
      "text/plain": [
       "0.999997569182578"
      ]
     },
     "execution_count": 30,
     "metadata": {},
     "output_type": "execute_result"
    }
   ],
   "source": [
    "gbrreg.score(x_train, y_train)"
   ]
  },
  {
   "cell_type": "code",
   "execution_count": 31,
   "id": "ed3a36f6",
   "metadata": {},
   "outputs": [
    {
     "data": {
      "text/plain": [
       "0.6569013040020479"
      ]
     },
     "execution_count": 31,
     "metadata": {},
     "output_type": "execute_result"
    }
   ],
   "source": [
    "gbrreg.score(x_test, y_test)"
   ]
  },
  {
   "cell_type": "code",
   "execution_count": 32,
   "id": "7f5b6bb1",
   "metadata": {},
   "outputs": [
    {
     "name": "stdout",
     "output_type": "stream",
     "text": [
      "0.0336849040957532\n",
      "0.0027848736873752897\n",
      "0.05277190244225889\n",
      "0.6569013040020479\n",
      "0.565276164429712\n"
     ]
    }
   ],
   "source": [
    "from sklearn.metrics import r2_score\n",
    "from sklearn.metrics import mean_squared_error\n",
    "from math import sqrt\n",
    "from sklearn.metrics import mean_absolute_error\n",
    "print(mean_absolute_error(y_test, ygbr_pred))\n",
    "print(mean_squared_error(y_test, ygbr_pred))\n",
    "print(np.sqrt(mean_squared_error(y_test, ygbr_pred)))\n",
    "print(r2_score(y_test, ygbr_pred))\n",
    "print(mean_absolute_percentage_error(y_test, ygbr_pred))"
   ]
  },
  {
   "cell_type": "code",
   "execution_count": 33,
   "id": "4fcfe8e9",
   "metadata": {},
   "outputs": [],
   "source": [
    "from sklearn.ensemble import RandomForestRegressor\n"
   ]
  },
  {
   "cell_type": "code",
   "execution_count": 34,
   "id": "67cdb83c",
   "metadata": {},
   "outputs": [
    {
     "data": {
      "text/plain": [
       "RandomForestRegressor(max_depth=25, max_features='sqrt', n_estimators=1000,\n",
       "                      random_state=42)"
      ]
     },
     "execution_count": 34,
     "metadata": {},
     "output_type": "execute_result"
    }
   ],
   "source": [
    "rf=RandomForestRegressor(n_estimators=1000, min_samples_split=2, min_samples_leaf=1, max_features='sqrt', max_depth=25, random_state=42)\n",
    "rf.fit(x_train, y_train)"
   ]
  },
  {
   "cell_type": "code",
   "execution_count": 35,
   "id": "723ef84f",
   "metadata": {},
   "outputs": [],
   "source": [
    "yrf_pred=rf.predict(x_test)"
   ]
  },
  {
   "cell_type": "code",
   "execution_count": 36,
   "id": "bbf273df",
   "metadata": {},
   "outputs": [
    {
     "data": {
      "text/plain": [
       "0.9348460989903454"
      ]
     },
     "execution_count": 36,
     "metadata": {},
     "output_type": "execute_result"
    }
   ],
   "source": [
    "rf.score(x_train, y_train)"
   ]
  },
  {
   "cell_type": "code",
   "execution_count": 37,
   "id": "1844e3a0",
   "metadata": {},
   "outputs": [
    {
     "data": {
      "text/plain": [
       "0.6683444206772386"
      ]
     },
     "execution_count": 37,
     "metadata": {},
     "output_type": "execute_result"
    }
   ],
   "source": [
    "rf.score(x_test, y_test)"
   ]
  },
  {
   "cell_type": "code",
   "execution_count": 38,
   "id": "8ee1ab61",
   "metadata": {},
   "outputs": [
    {
     "name": "stdout",
     "output_type": "stream",
     "text": [
      "0.030528112500000038\n",
      "0.0026919918580299096\n",
      "0.051884408621761406\n",
      "0.6683444206772386\n",
      "0.47529850440089094\n"
     ]
    }
   ],
   "source": [
    "from sklearn.metrics import r2_score\n",
    "from sklearn.metrics import mean_squared_error\n",
    "from math import sqrt\n",
    "from sklearn.metrics import mean_absolute_error\n",
    "print(mean_absolute_error(y_test, yrf_pred))\n",
    "print(mean_squared_error(y_test, yrf_pred))\n",
    "print(np.sqrt(mean_squared_error(y_test, yrf_pred)))\n",
    "print(r2_score(y_test, yrf_pred))\n",
    "print(mean_absolute_percentage_error(y_test, yrf_pred))"
   ]
  },
  {
   "cell_type": "code",
   "execution_count": 39,
   "id": "896e1306",
   "metadata": {},
   "outputs": [],
   "source": [
    "sns.set_style({'font.family':'serif','font.serif':'Times New Roman'})\n",
    "plt.rcParams.update({'font.size':12})"
   ]
  },
  {
   "cell_type": "code",
   "execution_count": 40,
   "id": "0b8b2260",
   "metadata": {},
   "outputs": [
    {
     "data": {
      "image/png": "[encoded data removed]",
      "text/plain": [
       "<Figure size 432x288 with 1 Axes>"
      ]
     },
     "metadata": {
      "needs_background": "light"
     },
     "output_type": "display_data"
    },
    {
     "data": {
      "text/plain": [
       "<Figure size 720x576 with 0 Axes>"
      ]
     },
     "metadata": {},
     "output_type": "display_data"
    }
   ],
   "source": [
    "fig, ax = plt.subplots()\n",
    "plt.figure(figsize=(10,8))\n",
    "ax.scatter(y_test, yrf_pred, edgecolors=(0,0,0),s=60)\n",
    "ax.plot([y_test.min(), y_test.max()], [yrf_pred.min(), yrf_pred.max()],\"k-\",lw=3)\n",
    "ax.set_xlabel(\"Observed value\")\n",
    "ax.set_ylabel(\"Predicted value\")\n",
    "ax.set_title('Random Forest Regression')\n",
    "plt.show()"
   ]
  },
  {
   "cell_type": "code",
   "execution_count": 41,
   "id": "0c2e0123",
   "metadata": {},
   "outputs": [
    {
     "data": {
      "image/png": "[encoded data removed]",
      "text/plain": [
       "<Figure size 432x288 with 1 Axes>"
      ]
     },
     "metadata": {
      "needs_background": "light"
     },
     "output_type": "display_data"
    },
    {
     "data": {
      "text/plain": [
       "<Figure size 720x576 with 0 Axes>"
      ]
     },
     "metadata": {},
     "output_type": "display_data"
    }
   ],
   "source": [
    "fig, ax = plt.subplots()\n",
    "plt.figure(figsize=(10,8))\n",
    "ax.scatter(y_test, y_pred, edgecolors=(0,0,0),s=60)\n",
    "ax.plot([y_test.min(), y_test.max()], [y_pred.min(), y_pred.max()],\"k-\",lw=3)\n",
    "ax.set_xlabel(\"Observed value\")\n",
    "ax.set_ylabel(\"Predicted value\")\n",
    "ax.set_title('Linear Regression')\n",
    "plt.show()"
   ]
  },
  {
   "cell_type": "code",
   "execution_count": null,
   "id": "49540867",
   "metadata": {},
   "outputs": [],
   "source": []
  }
 ],
 "metadata": {
  "kernelspec": {
   "display_name": "Python 3 (ipykernel)",
   "language": "python",
   "name": "python3"
  },
  "language_info": {
   "codemirror_mode": {
    "name": "ipython",
    "version": 3
   },
   "file_extension": ".py",
   "mimetype": "text/x-python",
   "name": "python",
   "nbconvert_exporter": "python",
   "pygments_lexer": "ipython3",
   "version": "3.9.7"
  }
 },
 "nbformat": 4,
 "nbformat_minor": 5
}
